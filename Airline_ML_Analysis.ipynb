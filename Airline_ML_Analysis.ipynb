{
 "cells": [
  {
   "cell_type": "markdown",
   "id": "776ae8d6",
   "metadata": {},
   "source": [
    "# Final Project - Group 10"
   ]
  },
  {
   "cell_type": "markdown",
   "id": "8880c0be",
   "metadata": {},
   "source": [
    "#### Blenda Hoang, Alexander Chin, Billy Marin, Sejoon Park"
   ]
  },
  {
   "cell_type": "markdown",
   "id": "b11ac507",
   "metadata": {},
   "source": [
    "### Project Proposal: Millions of people get onto flights every day. But what factors most influence whether or not they are satisfied with their flight experience or loyal to the airline? Using a dataset of over 120,000 customer reviews on elements such as food & drink, inflight entertainment, and flight distance, we intend to answer these questions."
   ]
  },
  {
   "cell_type": "code",
   "execution_count": 1,
   "id": "b6b1b74a",
   "metadata": {},
   "outputs": [],
   "source": [
    "# print all the outputs in a cell\n",
    "from IPython.core.interactiveshell import InteractiveShell\n",
    "InteractiveShell.ast_node_interactivity = \"all\""
   ]
  },
  {
   "cell_type": "code",
   "execution_count": 2,
   "id": "92b79824",
   "metadata": {},
   "outputs": [],
   "source": [
    "import warnings\n",
    "warnings.filterwarnings('ignore')"
   ]
  },
  {
   "cell_type": "code",
   "execution_count": 3,
   "id": "e5c25aa6",
   "metadata": {},
   "outputs": [],
   "source": [
    "%matplotlib inline\n",
    "import matplotlib.pyplot as plt\n",
    "import pandas as pd\n",
    "import seaborn as sns\n",
    "from plotly.offline import init_notebook_mode, iplot\n",
    "import plotly.express as px\n",
    "import os\n",
    "import numpy as np"
   ]
  },
  {
   "cell_type": "code",
   "execution_count": 4,
   "id": "8245695e",
   "metadata": {},
   "outputs": [],
   "source": [
    "data = pd.read_csv('airline.csv',index_col=0, parse_dates=True,header=0)"
   ]
  },
  {
   "cell_type": "code",
   "execution_count": 5,
   "id": "be045bd6",
   "metadata": {},
   "outputs": [],
   "source": [
    "df = data.copy()"
   ]
  },
  {
   "cell_type": "markdown",
   "id": "fc8a53f3",
   "metadata": {},
   "source": [
    "### Data Description"
   ]
  },
  {
   "cell_type": "code",
   "execution_count": 6,
   "id": "06711252",
   "metadata": {},
   "outputs": [
    {
     "data": {
      "text/html": [
       "<div>\n",
       "<style scoped>\n",
       "    .dataframe tbody tr th:only-of-type {\n",
       "        vertical-align: middle;\n",
       "    }\n",
       "\n",
       "    .dataframe tbody tr th {\n",
       "        vertical-align: top;\n",
       "    }\n",
       "\n",
       "    .dataframe thead th {\n",
       "        text-align: right;\n",
       "    }\n",
       "</style>\n",
       "<table border=\"1\" class=\"dataframe\">\n",
       "  <thead>\n",
       "    <tr style=\"text-align: right;\">\n",
       "      <th></th>\n",
       "      <th>id</th>\n",
       "      <th>Gender</th>\n",
       "      <th>Customer_Type</th>\n",
       "      <th>Age</th>\n",
       "      <th>Type_of_Travel</th>\n",
       "      <th>Class</th>\n",
       "      <th>Flight_Distance</th>\n",
       "      <th>Inflight_wifi_service</th>\n",
       "      <th>Departure_Arrival_time_convenient</th>\n",
       "      <th>Ease_of_Online_booking</th>\n",
       "      <th>...</th>\n",
       "      <th>Inflight_entertainment</th>\n",
       "      <th>On-board_service</th>\n",
       "      <th>Leg_room_service</th>\n",
       "      <th>Baggage_handling</th>\n",
       "      <th>Checkin_service</th>\n",
       "      <th>Inflight_service</th>\n",
       "      <th>Cleanliness</th>\n",
       "      <th>Departure_Delay_in_Minutes</th>\n",
       "      <th>Arrival_Delay_in_Minutes</th>\n",
       "      <th>satisfaction</th>\n",
       "    </tr>\n",
       "  </thead>\n",
       "  <tbody>\n",
       "    <tr>\n",
       "      <th>0</th>\n",
       "      <td>19556</td>\n",
       "      <td>Female</td>\n",
       "      <td>Loyal Customer</td>\n",
       "      <td>52</td>\n",
       "      <td>Business travel</td>\n",
       "      <td>Eco</td>\n",
       "      <td>160</td>\n",
       "      <td>5</td>\n",
       "      <td>4</td>\n",
       "      <td>3</td>\n",
       "      <td>...</td>\n",
       "      <td>5</td>\n",
       "      <td>5</td>\n",
       "      <td>5</td>\n",
       "      <td>5</td>\n",
       "      <td>2</td>\n",
       "      <td>5</td>\n",
       "      <td>5</td>\n",
       "      <td>50</td>\n",
       "      <td>44.0</td>\n",
       "      <td>satisfied</td>\n",
       "    </tr>\n",
       "    <tr>\n",
       "      <th>1</th>\n",
       "      <td>90035</td>\n",
       "      <td>Female</td>\n",
       "      <td>Loyal Customer</td>\n",
       "      <td>36</td>\n",
       "      <td>Business travel</td>\n",
       "      <td>Business</td>\n",
       "      <td>2863</td>\n",
       "      <td>1</td>\n",
       "      <td>1</td>\n",
       "      <td>3</td>\n",
       "      <td>...</td>\n",
       "      <td>4</td>\n",
       "      <td>4</td>\n",
       "      <td>4</td>\n",
       "      <td>4</td>\n",
       "      <td>3</td>\n",
       "      <td>4</td>\n",
       "      <td>5</td>\n",
       "      <td>0</td>\n",
       "      <td>0.0</td>\n",
       "      <td>satisfied</td>\n",
       "    </tr>\n",
       "    <tr>\n",
       "      <th>2</th>\n",
       "      <td>12360</td>\n",
       "      <td>Male</td>\n",
       "      <td>disloyal Customer</td>\n",
       "      <td>20</td>\n",
       "      <td>Business travel</td>\n",
       "      <td>Eco</td>\n",
       "      <td>192</td>\n",
       "      <td>2</td>\n",
       "      <td>0</td>\n",
       "      <td>2</td>\n",
       "      <td>...</td>\n",
       "      <td>2</td>\n",
       "      <td>4</td>\n",
       "      <td>1</td>\n",
       "      <td>3</td>\n",
       "      <td>2</td>\n",
       "      <td>2</td>\n",
       "      <td>2</td>\n",
       "      <td>0</td>\n",
       "      <td>0.0</td>\n",
       "      <td>neutral or dissatisfied</td>\n",
       "    </tr>\n",
       "    <tr>\n",
       "      <th>3</th>\n",
       "      <td>77959</td>\n",
       "      <td>Male</td>\n",
       "      <td>Loyal Customer</td>\n",
       "      <td>44</td>\n",
       "      <td>Business travel</td>\n",
       "      <td>Business</td>\n",
       "      <td>3377</td>\n",
       "      <td>0</td>\n",
       "      <td>0</td>\n",
       "      <td>0</td>\n",
       "      <td>...</td>\n",
       "      <td>1</td>\n",
       "      <td>1</td>\n",
       "      <td>1</td>\n",
       "      <td>1</td>\n",
       "      <td>3</td>\n",
       "      <td>1</td>\n",
       "      <td>4</td>\n",
       "      <td>0</td>\n",
       "      <td>6.0</td>\n",
       "      <td>satisfied</td>\n",
       "    </tr>\n",
       "    <tr>\n",
       "      <th>4</th>\n",
       "      <td>36875</td>\n",
       "      <td>Female</td>\n",
       "      <td>Loyal Customer</td>\n",
       "      <td>49</td>\n",
       "      <td>Business travel</td>\n",
       "      <td>Eco</td>\n",
       "      <td>1182</td>\n",
       "      <td>2</td>\n",
       "      <td>3</td>\n",
       "      <td>4</td>\n",
       "      <td>...</td>\n",
       "      <td>2</td>\n",
       "      <td>2</td>\n",
       "      <td>2</td>\n",
       "      <td>2</td>\n",
       "      <td>4</td>\n",
       "      <td>2</td>\n",
       "      <td>4</td>\n",
       "      <td>0</td>\n",
       "      <td>20.0</td>\n",
       "      <td>satisfied</td>\n",
       "    </tr>\n",
       "  </tbody>\n",
       "</table>\n",
       "<p>5 rows × 24 columns</p>\n",
       "</div>"
      ],
      "text/plain": [
       "      id  Gender      Customer_Type  Age   Type_of_Travel     Class  \\\n",
       "0  19556  Female     Loyal Customer   52  Business travel       Eco   \n",
       "1  90035  Female     Loyal Customer   36  Business travel  Business   \n",
       "2  12360    Male  disloyal Customer   20  Business travel       Eco   \n",
       "3  77959    Male     Loyal Customer   44  Business travel  Business   \n",
       "4  36875  Female     Loyal Customer   49  Business travel       Eco   \n",
       "\n",
       "   Flight_Distance  Inflight_wifi_service  Departure_Arrival_time_convenient  \\\n",
       "0              160                      5                                  4   \n",
       "1             2863                      1                                  1   \n",
       "2              192                      2                                  0   \n",
       "3             3377                      0                                  0   \n",
       "4             1182                      2                                  3   \n",
       "\n",
       "   Ease_of_Online_booking  ...  Inflight_entertainment  On-board_service  \\\n",
       "0                       3  ...                       5                 5   \n",
       "1                       3  ...                       4                 4   \n",
       "2                       2  ...                       2                 4   \n",
       "3                       0  ...                       1                 1   \n",
       "4                       4  ...                       2                 2   \n",
       "\n",
       "   Leg_room_service  Baggage_handling  Checkin_service  Inflight_service  \\\n",
       "0                 5                 5                2                 5   \n",
       "1                 4                 4                3                 4   \n",
       "2                 1                 3                2                 2   \n",
       "3                 1                 1                3                 1   \n",
       "4                 2                 2                4                 2   \n",
       "\n",
       "   Cleanliness  Departure_Delay_in_Minutes  Arrival_Delay_in_Minutes  \\\n",
       "0            5                          50                      44.0   \n",
       "1            5                           0                       0.0   \n",
       "2            2                           0                       0.0   \n",
       "3            4                           0                       6.0   \n",
       "4            4                           0                      20.0   \n",
       "\n",
       "              satisfaction  \n",
       "0                satisfied  \n",
       "1                satisfied  \n",
       "2  neutral or dissatisfied  \n",
       "3                satisfied  \n",
       "4                satisfied  \n",
       "\n",
       "[5 rows x 24 columns]"
      ]
     },
     "execution_count": 6,
     "metadata": {},
     "output_type": "execute_result"
    }
   ],
   "source": [
    "df.head()"
   ]
  },
  {
   "cell_type": "code",
   "execution_count": 7,
   "id": "aebcf5aa",
   "metadata": {
    "scrolled": true
   },
   "outputs": [
    {
     "name": "stdout",
     "output_type": "stream",
     "text": [
      "<class 'pandas.core.frame.DataFrame'>\n",
      "Int64Index: 129880 entries, 0 to 129879\n",
      "Data columns (total 24 columns):\n",
      " #   Column                             Non-Null Count   Dtype  \n",
      "---  ------                             --------------   -----  \n",
      " 0   id                                 129880 non-null  int64  \n",
      " 1   Gender                             129880 non-null  object \n",
      " 2   Customer_Type                      129880 non-null  object \n",
      " 3   Age                                129880 non-null  int64  \n",
      " 4   Type_of_Travel                     129880 non-null  object \n",
      " 5   Class                              129880 non-null  object \n",
      " 6   Flight_Distance                    129880 non-null  int64  \n",
      " 7   Inflight_wifi_service              129880 non-null  int64  \n",
      " 8   Departure_Arrival_time_convenient  129880 non-null  int64  \n",
      " 9   Ease_of_Online_booking             129880 non-null  int64  \n",
      " 10  Gate_location                      129880 non-null  int64  \n",
      " 11  Food_and_drink                     129880 non-null  int64  \n",
      " 12  Online_boarding                    129880 non-null  int64  \n",
      " 13  Seat_comfort                       129880 non-null  int64  \n",
      " 14  Inflight_entertainment             129880 non-null  int64  \n",
      " 15  On-board_service                   129880 non-null  int64  \n",
      " 16  Leg_room_service                   129880 non-null  int64  \n",
      " 17  Baggage_handling                   129880 non-null  int64  \n",
      " 18  Checkin_service                    129880 non-null  int64  \n",
      " 19  Inflight_service                   129880 non-null  int64  \n",
      " 20  Cleanliness                        129880 non-null  int64  \n",
      " 21  Departure_Delay_in_Minutes         129880 non-null  int64  \n",
      " 22  Arrival_Delay_in_Minutes           129487 non-null  float64\n",
      " 23  satisfaction                       129880 non-null  object \n",
      "dtypes: float64(1), int64(18), object(5)\n",
      "memory usage: 24.8+ MB\n"
     ]
    }
   ],
   "source": [
    "df.info()"
   ]
  },
  {
   "cell_type": "code",
   "execution_count": 8,
   "id": "27e3e0fc",
   "metadata": {
    "scrolled": true
   },
   "outputs": [
    {
     "data": {
      "text/plain": [
       "id                                     0\n",
       "Gender                                 0\n",
       "Customer_Type                          0\n",
       "Age                                    0\n",
       "Type_of_Travel                         0\n",
       "Class                                  0\n",
       "Flight_Distance                        0\n",
       "Inflight_wifi_service                  0\n",
       "Departure_Arrival_time_convenient      0\n",
       "Ease_of_Online_booking                 0\n",
       "Gate_location                          0\n",
       "Food_and_drink                         0\n",
       "Online_boarding                        0\n",
       "Seat_comfort                           0\n",
       "Inflight_entertainment                 0\n",
       "On-board_service                       0\n",
       "Leg_room_service                       0\n",
       "Baggage_handling                       0\n",
       "Checkin_service                        0\n",
       "Inflight_service                       0\n",
       "Cleanliness                            0\n",
       "Departure_Delay_in_Minutes             0\n",
       "Arrival_Delay_in_Minutes             393\n",
       "satisfaction                           0\n",
       "dtype: int64"
      ]
     },
     "execution_count": 8,
     "metadata": {},
     "output_type": "execute_result"
    }
   ],
   "source": [
    "df.isna().sum()"
   ]
  },
  {
   "cell_type": "code",
   "execution_count": 9,
   "id": "b656ba6d",
   "metadata": {},
   "outputs": [],
   "source": [
    "df.dropna(inplace=True)"
   ]
  },
  {
   "cell_type": "code",
   "execution_count": 10,
   "id": "e16c51b5",
   "metadata": {
    "scrolled": false
   },
   "outputs": [
    {
     "data": {
      "text/plain": [
       "id                                   0\n",
       "Gender                               0\n",
       "Customer_Type                        0\n",
       "Age                                  0\n",
       "Type_of_Travel                       0\n",
       "Class                                0\n",
       "Flight_Distance                      0\n",
       "Inflight_wifi_service                0\n",
       "Departure_Arrival_time_convenient    0\n",
       "Ease_of_Online_booking               0\n",
       "Gate_location                        0\n",
       "Food_and_drink                       0\n",
       "Online_boarding                      0\n",
       "Seat_comfort                         0\n",
       "Inflight_entertainment               0\n",
       "On-board_service                     0\n",
       "Leg_room_service                     0\n",
       "Baggage_handling                     0\n",
       "Checkin_service                      0\n",
       "Inflight_service                     0\n",
       "Cleanliness                          0\n",
       "Departure_Delay_in_Minutes           0\n",
       "Arrival_Delay_in_Minutes             0\n",
       "satisfaction                         0\n",
       "dtype: int64"
      ]
     },
     "execution_count": 10,
     "metadata": {},
     "output_type": "execute_result"
    }
   ],
   "source": [
    "df.isna().sum()"
   ]
  },
  {
   "cell_type": "code",
   "execution_count": 11,
   "id": "f14f3208",
   "metadata": {},
   "outputs": [
    {
     "data": {
      "text/plain": [
       "(129487, 24)"
      ]
     },
     "execution_count": 11,
     "metadata": {},
     "output_type": "execute_result"
    }
   ],
   "source": [
    "df.shape"
   ]
  },
  {
   "cell_type": "code",
   "execution_count": 12,
   "id": "17122f98",
   "metadata": {},
   "outputs": [
    {
     "data": {
      "text/plain": [
       "Index(['id', 'Gender', 'Customer_Type', 'Age', 'Type_of_Travel', 'Class',\n",
       "       'Flight_Distance', 'Inflight_wifi_service',\n",
       "       'Departure_Arrival_time_convenient', 'Ease_of_Online_booking',\n",
       "       'Gate_location', 'Food_and_drink', 'Online_boarding', 'Seat_comfort',\n",
       "       'Inflight_entertainment', 'On-board_service', 'Leg_room_service',\n",
       "       'Baggage_handling', 'Checkin_service', 'Inflight_service',\n",
       "       'Cleanliness', 'Departure_Delay_in_Minutes', 'Arrival_Delay_in_Minutes',\n",
       "       'satisfaction'],\n",
       "      dtype='object')"
      ]
     },
     "execution_count": 12,
     "metadata": {},
     "output_type": "execute_result"
    }
   ],
   "source": [
    "df.columns"
   ]
  },
  {
   "cell_type": "markdown",
   "id": "21f4572c",
   "metadata": {},
   "source": [
    "### Data Cleaning"
   ]
  },
  {
   "cell_type": "code",
   "execution_count": 13,
   "id": "43beffb4",
   "metadata": {},
   "outputs": [],
   "source": [
    "df.drop(columns='id',inplace=True)"
   ]
  },
  {
   "cell_type": "code",
   "execution_count": 14,
   "id": "24aef05a",
   "metadata": {},
   "outputs": [
    {
     "data": {
      "text/html": [
       "<div>\n",
       "<style scoped>\n",
       "    .dataframe tbody tr th:only-of-type {\n",
       "        vertical-align: middle;\n",
       "    }\n",
       "\n",
       "    .dataframe tbody tr th {\n",
       "        vertical-align: top;\n",
       "    }\n",
       "\n",
       "    .dataframe thead th {\n",
       "        text-align: right;\n",
       "    }\n",
       "</style>\n",
       "<table border=\"1\" class=\"dataframe\">\n",
       "  <thead>\n",
       "    <tr style=\"text-align: right;\">\n",
       "      <th></th>\n",
       "      <th>Gender</th>\n",
       "      <th>Customer_Type</th>\n",
       "      <th>Age</th>\n",
       "      <th>Type_of_Travel</th>\n",
       "      <th>Class</th>\n",
       "      <th>Flight_Distance</th>\n",
       "      <th>Inflight_wifi_service</th>\n",
       "      <th>Departure_Arrival_time_convenient</th>\n",
       "      <th>Ease_of_Online_booking</th>\n",
       "      <th>Gate_location</th>\n",
       "      <th>...</th>\n",
       "      <th>Inflight_entertainment</th>\n",
       "      <th>On-board_service</th>\n",
       "      <th>Leg_room_service</th>\n",
       "      <th>Baggage_handling</th>\n",
       "      <th>Checkin_service</th>\n",
       "      <th>Inflight_service</th>\n",
       "      <th>Cleanliness</th>\n",
       "      <th>Departure_Delay_in_Minutes</th>\n",
       "      <th>Arrival_Delay_in_Minutes</th>\n",
       "      <th>satisfaction</th>\n",
       "    </tr>\n",
       "  </thead>\n",
       "  <tbody>\n",
       "    <tr>\n",
       "      <th>0</th>\n",
       "      <td>Female</td>\n",
       "      <td>Loyal Customer</td>\n",
       "      <td>52</td>\n",
       "      <td>Business travel</td>\n",
       "      <td>Eco</td>\n",
       "      <td>160</td>\n",
       "      <td>5</td>\n",
       "      <td>4</td>\n",
       "      <td>3</td>\n",
       "      <td>4</td>\n",
       "      <td>...</td>\n",
       "      <td>5</td>\n",
       "      <td>5</td>\n",
       "      <td>5</td>\n",
       "      <td>5</td>\n",
       "      <td>2</td>\n",
       "      <td>5</td>\n",
       "      <td>5</td>\n",
       "      <td>50</td>\n",
       "      <td>44.0</td>\n",
       "      <td>satisfied</td>\n",
       "    </tr>\n",
       "    <tr>\n",
       "      <th>1</th>\n",
       "      <td>Female</td>\n",
       "      <td>Loyal Customer</td>\n",
       "      <td>36</td>\n",
       "      <td>Business travel</td>\n",
       "      <td>Business</td>\n",
       "      <td>2863</td>\n",
       "      <td>1</td>\n",
       "      <td>1</td>\n",
       "      <td>3</td>\n",
       "      <td>1</td>\n",
       "      <td>...</td>\n",
       "      <td>4</td>\n",
       "      <td>4</td>\n",
       "      <td>4</td>\n",
       "      <td>4</td>\n",
       "      <td>3</td>\n",
       "      <td>4</td>\n",
       "      <td>5</td>\n",
       "      <td>0</td>\n",
       "      <td>0.0</td>\n",
       "      <td>satisfied</td>\n",
       "    </tr>\n",
       "    <tr>\n",
       "      <th>2</th>\n",
       "      <td>Male</td>\n",
       "      <td>disloyal Customer</td>\n",
       "      <td>20</td>\n",
       "      <td>Business travel</td>\n",
       "      <td>Eco</td>\n",
       "      <td>192</td>\n",
       "      <td>2</td>\n",
       "      <td>0</td>\n",
       "      <td>2</td>\n",
       "      <td>4</td>\n",
       "      <td>...</td>\n",
       "      <td>2</td>\n",
       "      <td>4</td>\n",
       "      <td>1</td>\n",
       "      <td>3</td>\n",
       "      <td>2</td>\n",
       "      <td>2</td>\n",
       "      <td>2</td>\n",
       "      <td>0</td>\n",
       "      <td>0.0</td>\n",
       "      <td>neutral or dissatisfied</td>\n",
       "    </tr>\n",
       "    <tr>\n",
       "      <th>3</th>\n",
       "      <td>Male</td>\n",
       "      <td>Loyal Customer</td>\n",
       "      <td>44</td>\n",
       "      <td>Business travel</td>\n",
       "      <td>Business</td>\n",
       "      <td>3377</td>\n",
       "      <td>0</td>\n",
       "      <td>0</td>\n",
       "      <td>0</td>\n",
       "      <td>2</td>\n",
       "      <td>...</td>\n",
       "      <td>1</td>\n",
       "      <td>1</td>\n",
       "      <td>1</td>\n",
       "      <td>1</td>\n",
       "      <td>3</td>\n",
       "      <td>1</td>\n",
       "      <td>4</td>\n",
       "      <td>0</td>\n",
       "      <td>6.0</td>\n",
       "      <td>satisfied</td>\n",
       "    </tr>\n",
       "    <tr>\n",
       "      <th>4</th>\n",
       "      <td>Female</td>\n",
       "      <td>Loyal Customer</td>\n",
       "      <td>49</td>\n",
       "      <td>Business travel</td>\n",
       "      <td>Eco</td>\n",
       "      <td>1182</td>\n",
       "      <td>2</td>\n",
       "      <td>3</td>\n",
       "      <td>4</td>\n",
       "      <td>3</td>\n",
       "      <td>...</td>\n",
       "      <td>2</td>\n",
       "      <td>2</td>\n",
       "      <td>2</td>\n",
       "      <td>2</td>\n",
       "      <td>4</td>\n",
       "      <td>2</td>\n",
       "      <td>4</td>\n",
       "      <td>0</td>\n",
       "      <td>20.0</td>\n",
       "      <td>satisfied</td>\n",
       "    </tr>\n",
       "  </tbody>\n",
       "</table>\n",
       "<p>5 rows × 23 columns</p>\n",
       "</div>"
      ],
      "text/plain": [
       "   Gender      Customer_Type  Age   Type_of_Travel     Class  Flight_Distance  \\\n",
       "0  Female     Loyal Customer   52  Business travel       Eco              160   \n",
       "1  Female     Loyal Customer   36  Business travel  Business             2863   \n",
       "2    Male  disloyal Customer   20  Business travel       Eco              192   \n",
       "3    Male     Loyal Customer   44  Business travel  Business             3377   \n",
       "4  Female     Loyal Customer   49  Business travel       Eco             1182   \n",
       "\n",
       "   Inflight_wifi_service  Departure_Arrival_time_convenient  \\\n",
       "0                      5                                  4   \n",
       "1                      1                                  1   \n",
       "2                      2                                  0   \n",
       "3                      0                                  0   \n",
       "4                      2                                  3   \n",
       "\n",
       "   Ease_of_Online_booking  Gate_location  ...  Inflight_entertainment  \\\n",
       "0                       3              4  ...                       5   \n",
       "1                       3              1  ...                       4   \n",
       "2                       2              4  ...                       2   \n",
       "3                       0              2  ...                       1   \n",
       "4                       4              3  ...                       2   \n",
       "\n",
       "   On-board_service  Leg_room_service  Baggage_handling  Checkin_service  \\\n",
       "0                 5                 5                 5                2   \n",
       "1                 4                 4                 4                3   \n",
       "2                 4                 1                 3                2   \n",
       "3                 1                 1                 1                3   \n",
       "4                 2                 2                 2                4   \n",
       "\n",
       "   Inflight_service  Cleanliness  Departure_Delay_in_Minutes  \\\n",
       "0                 5            5                          50   \n",
       "1                 4            5                           0   \n",
       "2                 2            2                           0   \n",
       "3                 1            4                           0   \n",
       "4                 2            4                           0   \n",
       "\n",
       "   Arrival_Delay_in_Minutes             satisfaction  \n",
       "0                      44.0                satisfied  \n",
       "1                       0.0                satisfied  \n",
       "2                       0.0  neutral or dissatisfied  \n",
       "3                       6.0                satisfied  \n",
       "4                      20.0                satisfied  \n",
       "\n",
       "[5 rows x 23 columns]"
      ]
     },
     "execution_count": 14,
     "metadata": {},
     "output_type": "execute_result"
    }
   ],
   "source": [
    "df.head()"
   ]
  },
  {
   "cell_type": "code",
   "execution_count": 15,
   "id": "d091ab3b",
   "metadata": {},
   "outputs": [],
   "source": [
    "df.replace(to_replace='Male',value=1,inplace=True)\n",
    "df.replace(to_replace='Female',value=0,inplace=True)"
   ]
  },
  {
   "cell_type": "code",
   "execution_count": 16,
   "id": "383876c5",
   "metadata": {},
   "outputs": [],
   "source": [
    "df.replace(to_replace='Loyal Customer',value=1,inplace=True)\n",
    "df.replace(to_replace='disloyal Customer',value=0,inplace=True)"
   ]
  },
  {
   "cell_type": "code",
   "execution_count": 17,
   "id": "d4110e19",
   "metadata": {},
   "outputs": [],
   "source": [
    "df.replace(to_replace='Business travel',value=1,inplace=True)\n",
    "df.replace(to_replace='Personal Travel',value=0,inplace=True)"
   ]
  },
  {
   "cell_type": "code",
   "execution_count": 18,
   "id": "4d13de9f",
   "metadata": {},
   "outputs": [],
   "source": [
    "df.replace(to_replace='satisfied',value=1,inplace=True)\n",
    "df.replace(to_replace='neutral or dissatisfied',value=0,inplace=True)"
   ]
  },
  {
   "cell_type": "code",
   "execution_count": 19,
   "id": "f4032966",
   "metadata": {},
   "outputs": [],
   "source": [
    "df.rename(columns=\\\n",
    "        {'Gender':'Male','Customer_Type':'Loyal_Customer','Type_of_Travel':'Business_travel','satisfaction':'Satisfied'},inplace=True)"
   ]
  },
  {
   "cell_type": "code",
   "execution_count": 20,
   "id": "37d85af1",
   "metadata": {},
   "outputs": [],
   "source": [
    "df = pd.get_dummies(df, columns=['Class'], dummy_na=True)"
   ]
  },
  {
   "cell_type": "code",
   "execution_count": 21,
   "id": "972b69da",
   "metadata": {},
   "outputs": [
    {
     "data": {
      "text/html": [
       "<div>\n",
       "<style scoped>\n",
       "    .dataframe tbody tr th:only-of-type {\n",
       "        vertical-align: middle;\n",
       "    }\n",
       "\n",
       "    .dataframe tbody tr th {\n",
       "        vertical-align: top;\n",
       "    }\n",
       "\n",
       "    .dataframe thead th {\n",
       "        text-align: right;\n",
       "    }\n",
       "</style>\n",
       "<table border=\"1\" class=\"dataframe\">\n",
       "  <thead>\n",
       "    <tr style=\"text-align: right;\">\n",
       "      <th></th>\n",
       "      <th>Male</th>\n",
       "      <th>Loyal_Customer</th>\n",
       "      <th>Age</th>\n",
       "      <th>Business_travel</th>\n",
       "      <th>Flight_Distance</th>\n",
       "      <th>Inflight_wifi_service</th>\n",
       "      <th>Departure_Arrival_time_convenient</th>\n",
       "      <th>Ease_of_Online_booking</th>\n",
       "      <th>Gate_location</th>\n",
       "      <th>Food_and_drink</th>\n",
       "      <th>...</th>\n",
       "      <th>Checkin_service</th>\n",
       "      <th>Inflight_service</th>\n",
       "      <th>Cleanliness</th>\n",
       "      <th>Departure_Delay_in_Minutes</th>\n",
       "      <th>Arrival_Delay_in_Minutes</th>\n",
       "      <th>Satisfied</th>\n",
       "      <th>Class_Business</th>\n",
       "      <th>Class_Eco</th>\n",
       "      <th>Class_Eco Plus</th>\n",
       "      <th>Class_nan</th>\n",
       "    </tr>\n",
       "  </thead>\n",
       "  <tbody>\n",
       "    <tr>\n",
       "      <th>0</th>\n",
       "      <td>0</td>\n",
       "      <td>1</td>\n",
       "      <td>52</td>\n",
       "      <td>1</td>\n",
       "      <td>160</td>\n",
       "      <td>5</td>\n",
       "      <td>4</td>\n",
       "      <td>3</td>\n",
       "      <td>4</td>\n",
       "      <td>3</td>\n",
       "      <td>...</td>\n",
       "      <td>2</td>\n",
       "      <td>5</td>\n",
       "      <td>5</td>\n",
       "      <td>50</td>\n",
       "      <td>44.0</td>\n",
       "      <td>1</td>\n",
       "      <td>0</td>\n",
       "      <td>1</td>\n",
       "      <td>0</td>\n",
       "      <td>0</td>\n",
       "    </tr>\n",
       "    <tr>\n",
       "      <th>1</th>\n",
       "      <td>0</td>\n",
       "      <td>1</td>\n",
       "      <td>36</td>\n",
       "      <td>1</td>\n",
       "      <td>2863</td>\n",
       "      <td>1</td>\n",
       "      <td>1</td>\n",
       "      <td>3</td>\n",
       "      <td>1</td>\n",
       "      <td>5</td>\n",
       "      <td>...</td>\n",
       "      <td>3</td>\n",
       "      <td>4</td>\n",
       "      <td>5</td>\n",
       "      <td>0</td>\n",
       "      <td>0.0</td>\n",
       "      <td>1</td>\n",
       "      <td>1</td>\n",
       "      <td>0</td>\n",
       "      <td>0</td>\n",
       "      <td>0</td>\n",
       "    </tr>\n",
       "    <tr>\n",
       "      <th>2</th>\n",
       "      <td>1</td>\n",
       "      <td>0</td>\n",
       "      <td>20</td>\n",
       "      <td>1</td>\n",
       "      <td>192</td>\n",
       "      <td>2</td>\n",
       "      <td>0</td>\n",
       "      <td>2</td>\n",
       "      <td>4</td>\n",
       "      <td>2</td>\n",
       "      <td>...</td>\n",
       "      <td>2</td>\n",
       "      <td>2</td>\n",
       "      <td>2</td>\n",
       "      <td>0</td>\n",
       "      <td>0.0</td>\n",
       "      <td>0</td>\n",
       "      <td>0</td>\n",
       "      <td>1</td>\n",
       "      <td>0</td>\n",
       "      <td>0</td>\n",
       "    </tr>\n",
       "    <tr>\n",
       "      <th>3</th>\n",
       "      <td>1</td>\n",
       "      <td>1</td>\n",
       "      <td>44</td>\n",
       "      <td>1</td>\n",
       "      <td>3377</td>\n",
       "      <td>0</td>\n",
       "      <td>0</td>\n",
       "      <td>0</td>\n",
       "      <td>2</td>\n",
       "      <td>3</td>\n",
       "      <td>...</td>\n",
       "      <td>3</td>\n",
       "      <td>1</td>\n",
       "      <td>4</td>\n",
       "      <td>0</td>\n",
       "      <td>6.0</td>\n",
       "      <td>1</td>\n",
       "      <td>1</td>\n",
       "      <td>0</td>\n",
       "      <td>0</td>\n",
       "      <td>0</td>\n",
       "    </tr>\n",
       "    <tr>\n",
       "      <th>4</th>\n",
       "      <td>0</td>\n",
       "      <td>1</td>\n",
       "      <td>49</td>\n",
       "      <td>1</td>\n",
       "      <td>1182</td>\n",
       "      <td>2</td>\n",
       "      <td>3</td>\n",
       "      <td>4</td>\n",
       "      <td>3</td>\n",
       "      <td>4</td>\n",
       "      <td>...</td>\n",
       "      <td>4</td>\n",
       "      <td>2</td>\n",
       "      <td>4</td>\n",
       "      <td>0</td>\n",
       "      <td>20.0</td>\n",
       "      <td>1</td>\n",
       "      <td>0</td>\n",
       "      <td>1</td>\n",
       "      <td>0</td>\n",
       "      <td>0</td>\n",
       "    </tr>\n",
       "  </tbody>\n",
       "</table>\n",
       "<p>5 rows × 26 columns</p>\n",
       "</div>"
      ],
      "text/plain": [
       "   Male  Loyal_Customer  Age  Business_travel  Flight_Distance  \\\n",
       "0     0               1   52                1              160   \n",
       "1     0               1   36                1             2863   \n",
       "2     1               0   20                1              192   \n",
       "3     1               1   44                1             3377   \n",
       "4     0               1   49                1             1182   \n",
       "\n",
       "   Inflight_wifi_service  Departure_Arrival_time_convenient  \\\n",
       "0                      5                                  4   \n",
       "1                      1                                  1   \n",
       "2                      2                                  0   \n",
       "3                      0                                  0   \n",
       "4                      2                                  3   \n",
       "\n",
       "   Ease_of_Online_booking  Gate_location  Food_and_drink  ...  \\\n",
       "0                       3              4               3  ...   \n",
       "1                       3              1               5  ...   \n",
       "2                       2              4               2  ...   \n",
       "3                       0              2               3  ...   \n",
       "4                       4              3               4  ...   \n",
       "\n",
       "   Checkin_service  Inflight_service  Cleanliness  Departure_Delay_in_Minutes  \\\n",
       "0                2                 5            5                          50   \n",
       "1                3                 4            5                           0   \n",
       "2                2                 2            2                           0   \n",
       "3                3                 1            4                           0   \n",
       "4                4                 2            4                           0   \n",
       "\n",
       "   Arrival_Delay_in_Minutes  Satisfied  Class_Business  Class_Eco  \\\n",
       "0                      44.0          1               0          1   \n",
       "1                       0.0          1               1          0   \n",
       "2                       0.0          0               0          1   \n",
       "3                       6.0          1               1          0   \n",
       "4                      20.0          1               0          1   \n",
       "\n",
       "   Class_Eco Plus  Class_nan  \n",
       "0               0          0  \n",
       "1               0          0  \n",
       "2               0          0  \n",
       "3               0          0  \n",
       "4               0          0  \n",
       "\n",
       "[5 rows x 26 columns]"
      ]
     },
     "execution_count": 21,
     "metadata": {},
     "output_type": "execute_result"
    }
   ],
   "source": [
    "df.head()"
   ]
  },
  {
   "cell_type": "code",
   "execution_count": 22,
   "id": "dfab49b4",
   "metadata": {},
   "outputs": [],
   "source": [
    "df.drop(columns='Class_nan',inplace=True)"
   ]
  },
  {
   "cell_type": "code",
   "execution_count": 23,
   "id": "98d593cc",
   "metadata": {},
   "outputs": [
    {
     "data": {
      "text/html": [
       "<div>\n",
       "<style scoped>\n",
       "    .dataframe tbody tr th:only-of-type {\n",
       "        vertical-align: middle;\n",
       "    }\n",
       "\n",
       "    .dataframe tbody tr th {\n",
       "        vertical-align: top;\n",
       "    }\n",
       "\n",
       "    .dataframe thead th {\n",
       "        text-align: right;\n",
       "    }\n",
       "</style>\n",
       "<table border=\"1\" class=\"dataframe\">\n",
       "  <thead>\n",
       "    <tr style=\"text-align: right;\">\n",
       "      <th></th>\n",
       "      <th>Male</th>\n",
       "      <th>Loyal_Customer</th>\n",
       "      <th>Age</th>\n",
       "      <th>Business_travel</th>\n",
       "      <th>Flight_Distance</th>\n",
       "      <th>Inflight_wifi_service</th>\n",
       "      <th>Departure_Arrival_time_convenient</th>\n",
       "      <th>Ease_of_Online_booking</th>\n",
       "      <th>Gate_location</th>\n",
       "      <th>Food_and_drink</th>\n",
       "      <th>...</th>\n",
       "      <th>Baggage_handling</th>\n",
       "      <th>Checkin_service</th>\n",
       "      <th>Inflight_service</th>\n",
       "      <th>Cleanliness</th>\n",
       "      <th>Departure_Delay_in_Minutes</th>\n",
       "      <th>Arrival_Delay_in_Minutes</th>\n",
       "      <th>Satisfied</th>\n",
       "      <th>Class_Business</th>\n",
       "      <th>Class_Eco</th>\n",
       "      <th>Class_Eco Plus</th>\n",
       "    </tr>\n",
       "  </thead>\n",
       "  <tbody>\n",
       "    <tr>\n",
       "      <th>0</th>\n",
       "      <td>0</td>\n",
       "      <td>1</td>\n",
       "      <td>52</td>\n",
       "      <td>1</td>\n",
       "      <td>160</td>\n",
       "      <td>5</td>\n",
       "      <td>4</td>\n",
       "      <td>3</td>\n",
       "      <td>4</td>\n",
       "      <td>3</td>\n",
       "      <td>...</td>\n",
       "      <td>5</td>\n",
       "      <td>2</td>\n",
       "      <td>5</td>\n",
       "      <td>5</td>\n",
       "      <td>50</td>\n",
       "      <td>44.0</td>\n",
       "      <td>1</td>\n",
       "      <td>0</td>\n",
       "      <td>1</td>\n",
       "      <td>0</td>\n",
       "    </tr>\n",
       "    <tr>\n",
       "      <th>1</th>\n",
       "      <td>0</td>\n",
       "      <td>1</td>\n",
       "      <td>36</td>\n",
       "      <td>1</td>\n",
       "      <td>2863</td>\n",
       "      <td>1</td>\n",
       "      <td>1</td>\n",
       "      <td>3</td>\n",
       "      <td>1</td>\n",
       "      <td>5</td>\n",
       "      <td>...</td>\n",
       "      <td>4</td>\n",
       "      <td>3</td>\n",
       "      <td>4</td>\n",
       "      <td>5</td>\n",
       "      <td>0</td>\n",
       "      <td>0.0</td>\n",
       "      <td>1</td>\n",
       "      <td>1</td>\n",
       "      <td>0</td>\n",
       "      <td>0</td>\n",
       "    </tr>\n",
       "    <tr>\n",
       "      <th>2</th>\n",
       "      <td>1</td>\n",
       "      <td>0</td>\n",
       "      <td>20</td>\n",
       "      <td>1</td>\n",
       "      <td>192</td>\n",
       "      <td>2</td>\n",
       "      <td>0</td>\n",
       "      <td>2</td>\n",
       "      <td>4</td>\n",
       "      <td>2</td>\n",
       "      <td>...</td>\n",
       "      <td>3</td>\n",
       "      <td>2</td>\n",
       "      <td>2</td>\n",
       "      <td>2</td>\n",
       "      <td>0</td>\n",
       "      <td>0.0</td>\n",
       "      <td>0</td>\n",
       "      <td>0</td>\n",
       "      <td>1</td>\n",
       "      <td>0</td>\n",
       "    </tr>\n",
       "    <tr>\n",
       "      <th>3</th>\n",
       "      <td>1</td>\n",
       "      <td>1</td>\n",
       "      <td>44</td>\n",
       "      <td>1</td>\n",
       "      <td>3377</td>\n",
       "      <td>0</td>\n",
       "      <td>0</td>\n",
       "      <td>0</td>\n",
       "      <td>2</td>\n",
       "      <td>3</td>\n",
       "      <td>...</td>\n",
       "      <td>1</td>\n",
       "      <td>3</td>\n",
       "      <td>1</td>\n",
       "      <td>4</td>\n",
       "      <td>0</td>\n",
       "      <td>6.0</td>\n",
       "      <td>1</td>\n",
       "      <td>1</td>\n",
       "      <td>0</td>\n",
       "      <td>0</td>\n",
       "    </tr>\n",
       "    <tr>\n",
       "      <th>4</th>\n",
       "      <td>0</td>\n",
       "      <td>1</td>\n",
       "      <td>49</td>\n",
       "      <td>1</td>\n",
       "      <td>1182</td>\n",
       "      <td>2</td>\n",
       "      <td>3</td>\n",
       "      <td>4</td>\n",
       "      <td>3</td>\n",
       "      <td>4</td>\n",
       "      <td>...</td>\n",
       "      <td>2</td>\n",
       "      <td>4</td>\n",
       "      <td>2</td>\n",
       "      <td>4</td>\n",
       "      <td>0</td>\n",
       "      <td>20.0</td>\n",
       "      <td>1</td>\n",
       "      <td>0</td>\n",
       "      <td>1</td>\n",
       "      <td>0</td>\n",
       "    </tr>\n",
       "  </tbody>\n",
       "</table>\n",
       "<p>5 rows × 25 columns</p>\n",
       "</div>"
      ],
      "text/plain": [
       "   Male  Loyal_Customer  Age  Business_travel  Flight_Distance  \\\n",
       "0     0               1   52                1              160   \n",
       "1     0               1   36                1             2863   \n",
       "2     1               0   20                1              192   \n",
       "3     1               1   44                1             3377   \n",
       "4     0               1   49                1             1182   \n",
       "\n",
       "   Inflight_wifi_service  Departure_Arrival_time_convenient  \\\n",
       "0                      5                                  4   \n",
       "1                      1                                  1   \n",
       "2                      2                                  0   \n",
       "3                      0                                  0   \n",
       "4                      2                                  3   \n",
       "\n",
       "   Ease_of_Online_booking  Gate_location  Food_and_drink  ...  \\\n",
       "0                       3              4               3  ...   \n",
       "1                       3              1               5  ...   \n",
       "2                       2              4               2  ...   \n",
       "3                       0              2               3  ...   \n",
       "4                       4              3               4  ...   \n",
       "\n",
       "   Baggage_handling  Checkin_service  Inflight_service  Cleanliness  \\\n",
       "0                 5                2                 5            5   \n",
       "1                 4                3                 4            5   \n",
       "2                 3                2                 2            2   \n",
       "3                 1                3                 1            4   \n",
       "4                 2                4                 2            4   \n",
       "\n",
       "   Departure_Delay_in_Minutes  Arrival_Delay_in_Minutes  Satisfied  \\\n",
       "0                          50                      44.0          1   \n",
       "1                           0                       0.0          1   \n",
       "2                           0                       0.0          0   \n",
       "3                           0                       6.0          1   \n",
       "4                           0                      20.0          1   \n",
       "\n",
       "   Class_Business  Class_Eco  Class_Eco Plus  \n",
       "0               0          1               0  \n",
       "1               1          0               0  \n",
       "2               0          1               0  \n",
       "3               1          0               0  \n",
       "4               0          1               0  \n",
       "\n",
       "[5 rows x 25 columns]"
      ]
     },
     "execution_count": 23,
     "metadata": {},
     "output_type": "execute_result"
    }
   ],
   "source": [
    "df.head()"
   ]
  },
  {
   "cell_type": "markdown",
   "id": "d3a3b94b",
   "metadata": {},
   "source": [
    "### Exploratory Data Analysis"
   ]
  },
  {
   "cell_type": "markdown",
   "id": "52cac69b",
   "metadata": {},
   "source": [
    "##### Feature Engineering"
   ]
  },
  {
   "cell_type": "code",
   "execution_count": 24,
   "id": "0803fd7e",
   "metadata": {},
   "outputs": [],
   "source": [
    "df2 = df.copy()"
   ]
  },
  {
   "cell_type": "code",
   "execution_count": 25,
   "id": "bd3c58f9",
   "metadata": {},
   "outputs": [],
   "source": [
    "df2['discretized_age_EW']=pd.cut(df2.Age, 5)\n",
    "df2['discretized_age_EF']=pd.qcut(df2.Age, 5)"
   ]
  },
  {
   "cell_type": "code",
   "execution_count": 26,
   "id": "6470d480",
   "metadata": {},
   "outputs": [],
   "source": [
    "df2['Departure_Delay_EW']=pd.cut(df2.Departure_Delay_in_Minutes, bins=[-1,30,60,90,120,1000])"
   ]
  },
  {
   "cell_type": "code",
   "execution_count": 27,
   "id": "2102e308",
   "metadata": {},
   "outputs": [],
   "source": [
    "df2['Arrival_Delay_EW']=pd.cut(df2.Arrival_Delay_in_Minutes, bins=[-1,30,60,90,120,1000])"
   ]
  },
  {
   "cell_type": "code",
   "execution_count": 28,
   "id": "d6dec401",
   "metadata": {},
   "outputs": [],
   "source": [
    "conditions = [\n",
    "    ((df2['Departure_Delay_in_Minutes'] > 0) & (df2['Arrival_Delay_in_Minutes'] > 0)),\n",
    "    ((df2['Departure_Delay_in_Minutes'] != 0) & (df2['Arrival_Delay_in_Minutes'] == 0)),\n",
    "    ((df2['Departure_Delay_in_Minutes'] == 0) & (df2['Arrival_Delay_in_Minutes'] != 0)),\n",
    "    ((df2['Departure_Delay_in_Minutes'] == 0) & (df2['Arrival_Delay_in_Minutes'] == 0))]\n",
    "\n",
    "values = [1,0.5,0.5,0]"
   ]
  },
  {
   "cell_type": "code",
   "execution_count": 29,
   "id": "cbd6635e",
   "metadata": {},
   "outputs": [],
   "source": [
    "df2['Travel_Delays'] = np.select(conditions, values)"
   ]
  },
  {
   "cell_type": "markdown",
   "id": "7d956b91",
   "metadata": {},
   "source": [
    "##### Count of satisfied customers by flight class"
   ]
  },
  {
   "cell_type": "code",
   "execution_count": 30,
   "id": "3952ed42",
   "metadata": {
    "scrolled": false
   },
   "outputs": [
    {
     "data": {
      "text/plain": [
       "<AxesSubplot:xlabel='Satisfied', ylabel='count'>"
      ]
     },
     "execution_count": 30,
     "metadata": {},
     "output_type": "execute_result"
    },
    {
     "data": {
      "image/png": "[encoded data removed]",
      "text/plain": [
       "<Figure size 432x288 with 1 Axes>"
      ]
     },
     "metadata": {
      "needs_background": "light"
     },
     "output_type": "display_data"
    }
   ],
   "source": [
    "sns.countplot(x='Satisfied', hue=\"Class_Business\", data=df)"
   ]
  },
  {
   "cell_type": "markdown",
   "id": "37693037",
   "metadata": {},
   "source": [
    "The company has overall more unsatisfied customers but of those customers who are satisfied, there is a larger concentration in those flying business class."
   ]
  },
  {
   "cell_type": "markdown",
   "id": "16e02e01",
   "metadata": {},
   "source": [
    "#### Pie Chart of Satisfaction Category by Flight Class"
   ]
  },
  {
   "cell_type": "code",
   "execution_count": 31,
   "id": "3004d4a5",
   "metadata": {},
   "outputs": [
    {
     "data": {
      "text/plain": [
       "<AxesSubplot:ylabel='Class'>"
      ]
     },
     "execution_count": 31,
     "metadata": {},
     "output_type": "execute_result"
    },
    {
     "data": {
      "image/png": "[encoded data removed]",
      "text/plain": [
       "<Figure size 432x288 with 1 Axes>"
      ]
     },
     "metadata": {},
     "output_type": "display_data"
    }
   ],
   "source": [
    "data.groupby(['Class','satisfaction'])['Class'].count().plot(kind='pie', autopct='%1.0f%%')"
   ]
  },
  {
   "cell_type": "markdown",
   "id": "e5dd437a",
   "metadata": {},
   "source": [
    "##### Count of Loyal or Disloyal Customers"
   ]
  },
  {
   "cell_type": "code",
   "execution_count": 32,
   "id": "0853344c",
   "metadata": {},
   "outputs": [
    {
     "data": {
      "text/plain": [
       "<AxesSubplot:xlabel='Loyal_Customer', ylabel='count'>"
      ]
     },
     "execution_count": 32,
     "metadata": {},
     "output_type": "execute_result"
    },
    {
     "data": {
      "image/png": "[encoded data removed]",
      "text/plain": [
       "<Figure size 432x288 with 1 Axes>"
      ]
     },
     "metadata": {
      "needs_background": "light"
     },
     "output_type": "display_data"
    }
   ],
   "source": [
    "sns.countplot(x='Loyal_Customer',hue=\"Class_Business\", data=df2)"
   ]
  },
  {
   "cell_type": "markdown",
   "id": "aa64571f",
   "metadata": {},
   "source": [
    "#### Rating of Inflight Wifi Service by Satisfaction Category\n"
   ]
  },
  {
   "cell_type": "code",
   "execution_count": 33,
   "id": "c52b60b4",
   "metadata": {},
   "outputs": [
    {
     "data": {
      "text/plain": [
       "<AxesSubplot:xlabel='Inflight_wifi_service', ylabel='count'>"
      ]
     },
     "execution_count": 33,
     "metadata": {},
     "output_type": "execute_result"
    },
    {
     "data": {
      "image/png": "[encoded data removed]",
      "text/plain": [
       "<Figure size 432x288 with 1 Axes>"
      ]
     },
     "metadata": {
      "needs_background": "light"
     },
     "output_type": "display_data"
    }
   ],
   "source": [
    "sns.countplot(x = 'Inflight_wifi_service', hue = 'Satisfied', data = df)"
   ]
  },
  {
   "cell_type": "markdown",
   "id": "d2dc12ed",
   "metadata": {},
   "source": [
    "#### Rating of Ease of Online Booking by Satisfaction Category"
   ]
  },
  {
   "cell_type": "code",
   "execution_count": 34,
   "id": "daecba18",
   "metadata": {},
   "outputs": [
    {
     "data": {
      "text/plain": [
       "<AxesSubplot:xlabel='Online_boarding', ylabel='count'>"
      ]
     },
     "execution_count": 34,
     "metadata": {},
     "output_type": "execute_result"
    },
    {
     "data": {
      "image/png": "[encoded data removed]",
      "text/plain": [
       "<Figure size 432x288 with 1 Axes>"
      ]
     },
     "metadata": {
      "needs_background": "light"
     },
     "output_type": "display_data"
    }
   ],
   "source": [
    "sns.countplot(x = 'Online_boarding', hue = 'Satisfied', data = df)"
   ]
  },
  {
   "cell_type": "markdown",
   "id": "086325a5",
   "metadata": {},
   "source": [
    "Despite having a greater proportion of unsatisfied customers, this airline has a greater proportion of loyal customers. Loyal customers also observe a higher proportion of business class fliers."
   ]
  },
  {
   "cell_type": "markdown",
   "id": "7f5857d1",
   "metadata": {},
   "source": [
    "#### Departure & Arrival Delays"
   ]
  },
  {
   "cell_type": "code",
   "execution_count": 35,
   "id": "981a3a56",
   "metadata": {
    "scrolled": true
   },
   "outputs": [
    {
     "data": {
      "text/html": [
       "<div>\n",
       "<style scoped>\n",
       "    .dataframe tbody tr th:only-of-type {\n",
       "        vertical-align: middle;\n",
       "    }\n",
       "\n",
       "    .dataframe tbody tr th {\n",
       "        vertical-align: top;\n",
       "    }\n",
       "\n",
       "    .dataframe thead th {\n",
       "        text-align: right;\n",
       "    }\n",
       "</style>\n",
       "<table border=\"1\" class=\"dataframe\">\n",
       "  <thead>\n",
       "    <tr style=\"text-align: right;\">\n",
       "      <th></th>\n",
       "      <th></th>\n",
       "      <th></th>\n",
       "      <th>Count</th>\n",
       "    </tr>\n",
       "    <tr>\n",
       "      <th>Arrival_Delay_EW</th>\n",
       "      <th>Travel_Delays</th>\n",
       "      <th>Satisfied</th>\n",
       "      <th></th>\n",
       "    </tr>\n",
       "  </thead>\n",
       "  <tbody>\n",
       "    <tr>\n",
       "      <th rowspan=\"6\" valign=\"top\">(-1, 30]</th>\n",
       "      <th rowspan=\"2\" valign=\"top\">0.0</th>\n",
       "      <th>0</th>\n",
       "      <td>31345</td>\n",
       "    </tr>\n",
       "    <tr>\n",
       "      <th>1</th>\n",
       "      <td>28006</td>\n",
       "    </tr>\n",
       "    <tr>\n",
       "      <th rowspan=\"2\" valign=\"top\">0.5</th>\n",
       "      <th>0</th>\n",
       "      <td>14704</td>\n",
       "    </tr>\n",
       "    <tr>\n",
       "      <th>1</th>\n",
       "      <td>11892</td>\n",
       "    </tr>\n",
       "    <tr>\n",
       "      <th rowspan=\"2\" valign=\"top\">1.0</th>\n",
       "      <th>0</th>\n",
       "      <td>15382</td>\n",
       "    </tr>\n",
       "    <tr>\n",
       "      <th>1</th>\n",
       "      <td>9783</td>\n",
       "    </tr>\n",
       "    <tr>\n",
       "      <th rowspan=\"6\" valign=\"top\">(30, 60]</th>\n",
       "      <th rowspan=\"2\" valign=\"top\">0.0</th>\n",
       "      <th>0</th>\n",
       "      <td>0</td>\n",
       "    </tr>\n",
       "    <tr>\n",
       "      <th>1</th>\n",
       "      <td>0</td>\n",
       "    </tr>\n",
       "    <tr>\n",
       "      <th rowspan=\"2\" valign=\"top\">0.5</th>\n",
       "      <th>0</th>\n",
       "      <td>382</td>\n",
       "    </tr>\n",
       "    <tr>\n",
       "      <th>1</th>\n",
       "      <td>203</td>\n",
       "    </tr>\n",
       "    <tr>\n",
       "      <th rowspan=\"2\" valign=\"top\">1.0</th>\n",
       "      <th>0</th>\n",
       "      <td>5557</td>\n",
       "    </tr>\n",
       "    <tr>\n",
       "      <th>1</th>\n",
       "      <td>3145</td>\n",
       "    </tr>\n",
       "    <tr>\n",
       "      <th rowspan=\"6\" valign=\"top\">(60, 90]</th>\n",
       "      <th rowspan=\"2\" valign=\"top\">0.0</th>\n",
       "      <th>0</th>\n",
       "      <td>0</td>\n",
       "    </tr>\n",
       "    <tr>\n",
       "      <th>1</th>\n",
       "      <td>0</td>\n",
       "    </tr>\n",
       "    <tr>\n",
       "      <th rowspan=\"2\" valign=\"top\">0.5</th>\n",
       "      <th>0</th>\n",
       "      <td>40</td>\n",
       "    </tr>\n",
       "    <tr>\n",
       "      <th>1</th>\n",
       "      <td>19</td>\n",
       "    </tr>\n",
       "    <tr>\n",
       "      <th rowspan=\"2\" valign=\"top\">1.0</th>\n",
       "      <th>0</th>\n",
       "      <td>2461</td>\n",
       "    </tr>\n",
       "    <tr>\n",
       "      <th>1</th>\n",
       "      <td>1342</td>\n",
       "    </tr>\n",
       "    <tr>\n",
       "      <th rowspan=\"6\" valign=\"top\">(90, 120]</th>\n",
       "      <th rowspan=\"2\" valign=\"top\">0.0</th>\n",
       "      <th>0</th>\n",
       "      <td>0</td>\n",
       "    </tr>\n",
       "    <tr>\n",
       "      <th>1</th>\n",
       "      <td>0</td>\n",
       "    </tr>\n",
       "    <tr>\n",
       "      <th rowspan=\"2\" valign=\"top\">0.5</th>\n",
       "      <th>0</th>\n",
       "      <td>15</td>\n",
       "    </tr>\n",
       "    <tr>\n",
       "      <th>1</th>\n",
       "      <td>4</td>\n",
       "    </tr>\n",
       "    <tr>\n",
       "      <th rowspan=\"2\" valign=\"top\">1.0</th>\n",
       "      <th>0</th>\n",
       "      <td>1299</td>\n",
       "    </tr>\n",
       "    <tr>\n",
       "      <th>1</th>\n",
       "      <td>716</td>\n",
       "    </tr>\n",
       "    <tr>\n",
       "      <th rowspan=\"6\" valign=\"top\">(120, 1000]</th>\n",
       "      <th rowspan=\"2\" valign=\"top\">0.0</th>\n",
       "      <th>0</th>\n",
       "      <td>0</td>\n",
       "    </tr>\n",
       "    <tr>\n",
       "      <th>1</th>\n",
       "      <td>0</td>\n",
       "    </tr>\n",
       "    <tr>\n",
       "      <th rowspan=\"2\" valign=\"top\">0.5</th>\n",
       "      <th>0</th>\n",
       "      <td>1</td>\n",
       "    </tr>\n",
       "    <tr>\n",
       "      <th>1</th>\n",
       "      <td>0</td>\n",
       "    </tr>\n",
       "    <tr>\n",
       "      <th rowspan=\"2\" valign=\"top\">1.0</th>\n",
       "      <th>0</th>\n",
       "      <td>2037</td>\n",
       "    </tr>\n",
       "    <tr>\n",
       "      <th>1</th>\n",
       "      <td>1150</td>\n",
       "    </tr>\n",
       "  </tbody>\n",
       "</table>\n",
       "</div>"
      ],
      "text/plain": [
       "                                          Count\n",
       "Arrival_Delay_EW Travel_Delays Satisfied       \n",
       "(-1, 30]         0.0           0          31345\n",
       "                               1          28006\n",
       "                 0.5           0          14704\n",
       "                               1          11892\n",
       "                 1.0           0          15382\n",
       "                               1           9783\n",
       "(30, 60]         0.0           0              0\n",
       "                               1              0\n",
       "                 0.5           0            382\n",
       "                               1            203\n",
       "                 1.0           0           5557\n",
       "                               1           3145\n",
       "(60, 90]         0.0           0              0\n",
       "                               1              0\n",
       "                 0.5           0             40\n",
       "                               1             19\n",
       "                 1.0           0           2461\n",
       "                               1           1342\n",
       "(90, 120]        0.0           0              0\n",
       "                               1              0\n",
       "                 0.5           0             15\n",
       "                               1              4\n",
       "                 1.0           0           1299\n",
       "                               1            716\n",
       "(120, 1000]      0.0           0              0\n",
       "                               1              0\n",
       "                 0.5           0              1\n",
       "                               1              0\n",
       "                 1.0           0           2037\n",
       "                               1           1150"
      ]
     },
     "execution_count": 35,
     "metadata": {},
     "output_type": "execute_result"
    }
   ],
   "source": [
    "df2.groupby(['Arrival_Delay_EW','Travel_Delays','Satisfied']).agg({'Satisfied':'count'}).rename(columns=\\\n",
    "        {'Satisfied':'Count'})"
   ]
  },
  {
   "cell_type": "code",
   "execution_count": 36,
   "id": "df9620be",
   "metadata": {
    "scrolled": true
   },
   "outputs": [
    {
     "data": {
      "text/html": [
       "<div>\n",
       "<style scoped>\n",
       "    .dataframe tbody tr th:only-of-type {\n",
       "        vertical-align: middle;\n",
       "    }\n",
       "\n",
       "    .dataframe tbody tr th {\n",
       "        vertical-align: top;\n",
       "    }\n",
       "\n",
       "    .dataframe thead th {\n",
       "        text-align: right;\n",
       "    }\n",
       "</style>\n",
       "<table border=\"1\" class=\"dataframe\">\n",
       "  <thead>\n",
       "    <tr style=\"text-align: right;\">\n",
       "      <th></th>\n",
       "      <th></th>\n",
       "      <th></th>\n",
       "      <th>%</th>\n",
       "    </tr>\n",
       "    <tr>\n",
       "      <th>Arrival_Delay_EW</th>\n",
       "      <th>Travel_Delays</th>\n",
       "      <th>Satisfied</th>\n",
       "      <th></th>\n",
       "    </tr>\n",
       "  </thead>\n",
       "  <tbody>\n",
       "    <tr>\n",
       "      <th rowspan=\"6\" valign=\"top\">(-1, 30]</th>\n",
       "      <th rowspan=\"2\" valign=\"top\">0.0</th>\n",
       "      <th>0</th>\n",
       "      <td>52.812926</td>\n",
       "    </tr>\n",
       "    <tr>\n",
       "      <th>1</th>\n",
       "      <td>47.187074</td>\n",
       "    </tr>\n",
       "    <tr>\n",
       "      <th rowspan=\"2\" valign=\"top\">0.5</th>\n",
       "      <th>0</th>\n",
       "      <td>55.286509</td>\n",
       "    </tr>\n",
       "    <tr>\n",
       "      <th>1</th>\n",
       "      <td>44.713491</td>\n",
       "    </tr>\n",
       "    <tr>\n",
       "      <th rowspan=\"2\" valign=\"top\">1.0</th>\n",
       "      <th>0</th>\n",
       "      <td>61.124578</td>\n",
       "    </tr>\n",
       "    <tr>\n",
       "      <th>1</th>\n",
       "      <td>38.875422</td>\n",
       "    </tr>\n",
       "    <tr>\n",
       "      <th rowspan=\"6\" valign=\"top\">(30, 60]</th>\n",
       "      <th rowspan=\"2\" valign=\"top\">0.0</th>\n",
       "      <th>0</th>\n",
       "      <td>NaN</td>\n",
       "    </tr>\n",
       "    <tr>\n",
       "      <th>1</th>\n",
       "      <td>NaN</td>\n",
       "    </tr>\n",
       "    <tr>\n",
       "      <th rowspan=\"2\" valign=\"top\">0.5</th>\n",
       "      <th>0</th>\n",
       "      <td>65.299145</td>\n",
       "    </tr>\n",
       "    <tr>\n",
       "      <th>1</th>\n",
       "      <td>34.700855</td>\n",
       "    </tr>\n",
       "    <tr>\n",
       "      <th rowspan=\"2\" valign=\"top\">1.0</th>\n",
       "      <th>0</th>\n",
       "      <td>63.858883</td>\n",
       "    </tr>\n",
       "    <tr>\n",
       "      <th>1</th>\n",
       "      <td>36.141117</td>\n",
       "    </tr>\n",
       "    <tr>\n",
       "      <th rowspan=\"6\" valign=\"top\">(60, 90]</th>\n",
       "      <th rowspan=\"2\" valign=\"top\">0.0</th>\n",
       "      <th>0</th>\n",
       "      <td>NaN</td>\n",
       "    </tr>\n",
       "    <tr>\n",
       "      <th>1</th>\n",
       "      <td>NaN</td>\n",
       "    </tr>\n",
       "    <tr>\n",
       "      <th rowspan=\"2\" valign=\"top\">0.5</th>\n",
       "      <th>0</th>\n",
       "      <td>67.796610</td>\n",
       "    </tr>\n",
       "    <tr>\n",
       "      <th>1</th>\n",
       "      <td>32.203390</td>\n",
       "    </tr>\n",
       "    <tr>\n",
       "      <th rowspan=\"2\" valign=\"top\">1.0</th>\n",
       "      <th>0</th>\n",
       "      <td>64.712069</td>\n",
       "    </tr>\n",
       "    <tr>\n",
       "      <th>1</th>\n",
       "      <td>35.287931</td>\n",
       "    </tr>\n",
       "    <tr>\n",
       "      <th rowspan=\"6\" valign=\"top\">(90, 120]</th>\n",
       "      <th rowspan=\"2\" valign=\"top\">0.0</th>\n",
       "      <th>0</th>\n",
       "      <td>NaN</td>\n",
       "    </tr>\n",
       "    <tr>\n",
       "      <th>1</th>\n",
       "      <td>NaN</td>\n",
       "    </tr>\n",
       "    <tr>\n",
       "      <th rowspan=\"2\" valign=\"top\">0.5</th>\n",
       "      <th>0</th>\n",
       "      <td>78.947368</td>\n",
       "    </tr>\n",
       "    <tr>\n",
       "      <th>1</th>\n",
       "      <td>21.052632</td>\n",
       "    </tr>\n",
       "    <tr>\n",
       "      <th rowspan=\"2\" valign=\"top\">1.0</th>\n",
       "      <th>0</th>\n",
       "      <td>64.466501</td>\n",
       "    </tr>\n",
       "    <tr>\n",
       "      <th>1</th>\n",
       "      <td>35.533499</td>\n",
       "    </tr>\n",
       "    <tr>\n",
       "      <th rowspan=\"6\" valign=\"top\">(120, 1000]</th>\n",
       "      <th rowspan=\"2\" valign=\"top\">0.0</th>\n",
       "      <th>0</th>\n",
       "      <td>NaN</td>\n",
       "    </tr>\n",
       "    <tr>\n",
       "      <th>1</th>\n",
       "      <td>NaN</td>\n",
       "    </tr>\n",
       "    <tr>\n",
       "      <th rowspan=\"2\" valign=\"top\">0.5</th>\n",
       "      <th>0</th>\n",
       "      <td>100.000000</td>\n",
       "    </tr>\n",
       "    <tr>\n",
       "      <th>1</th>\n",
       "      <td>0.000000</td>\n",
       "    </tr>\n",
       "    <tr>\n",
       "      <th rowspan=\"2\" valign=\"top\">1.0</th>\n",
       "      <th>0</th>\n",
       "      <td>63.915908</td>\n",
       "    </tr>\n",
       "    <tr>\n",
       "      <th>1</th>\n",
       "      <td>36.084092</td>\n",
       "    </tr>\n",
       "  </tbody>\n",
       "</table>\n",
       "</div>"
      ],
      "text/plain": [
       "                                                   %\n",
       "Arrival_Delay_EW Travel_Delays Satisfied            \n",
       "(-1, 30]         0.0           0           52.812926\n",
       "                               1           47.187074\n",
       "                 0.5           0           55.286509\n",
       "                               1           44.713491\n",
       "                 1.0           0           61.124578\n",
       "                               1           38.875422\n",
       "(30, 60]         0.0           0                 NaN\n",
       "                               1                 NaN\n",
       "                 0.5           0           65.299145\n",
       "                               1           34.700855\n",
       "                 1.0           0           63.858883\n",
       "                               1           36.141117\n",
       "(60, 90]         0.0           0                 NaN\n",
       "                               1                 NaN\n",
       "                 0.5           0           67.796610\n",
       "                               1           32.203390\n",
       "                 1.0           0           64.712069\n",
       "                               1           35.287931\n",
       "(90, 120]        0.0           0                 NaN\n",
       "                               1                 NaN\n",
       "                 0.5           0           78.947368\n",
       "                               1           21.052632\n",
       "                 1.0           0           64.466501\n",
       "                               1           35.533499\n",
       "(120, 1000]      0.0           0                 NaN\n",
       "                               1                 NaN\n",
       "                 0.5           0          100.000000\n",
       "                               1            0.000000\n",
       "                 1.0           0           63.915908\n",
       "                               1           36.084092"
      ]
     },
     "execution_count": 36,
     "metadata": {},
     "output_type": "execute_result"
    }
   ],
   "source": [
    "Arrival_Satisfaction = df2.groupby(['Arrival_Delay_EW','Travel_Delays','Satisfied']).agg({'Satisfied':'count'}).rename(columns=\\\n",
    "        {'Satisfied':'Count'})\n",
    "\n",
    "Arrival_Satisfaction_Perc = Arrival_Satisfaction.groupby(['Arrival_Delay_EW','Travel_Delays'],level=0).apply(lambda x:\n",
    "                                                 (x*100) / x.sum()).rename(columns={'Count':'%'})\n",
    "\n",
    "Arrival_Satisfaction_Perc"
   ]
  },
  {
   "cell_type": "markdown",
   "id": "e5cead45",
   "metadata": {},
   "source": [
    "After 30 minutes, even if a plane departs on time but arrives late due to extentuating circumstances or departs late and still is able to arrive on time, the proportion of unsatisfied customers is the same as customers to who were late on both departure and arrival. Additionally, after 30 minutes, the proportion of satisfied vs unsatisfied customers remain the same even with lengthier delays."
   ]
  },
  {
   "cell_type": "markdown",
   "id": "fa4da0d0",
   "metadata": {},
   "source": [
    "#### Average Rating of Flight Experience"
   ]
  },
  {
   "cell_type": "code",
   "execution_count": 37,
   "id": "7715b6ea",
   "metadata": {
    "scrolled": true
   },
   "outputs": [
    {
     "data": {
      "text/html": [
       "<div>\n",
       "<style scoped>\n",
       "    .dataframe tbody tr th:only-of-type {\n",
       "        vertical-align: middle;\n",
       "    }\n",
       "\n",
       "    .dataframe tbody tr th {\n",
       "        vertical-align: top;\n",
       "    }\n",
       "\n",
       "    .dataframe thead th {\n",
       "        text-align: right;\n",
       "    }\n",
       "</style>\n",
       "<table border=\"1\" class=\"dataframe\">\n",
       "  <thead>\n",
       "    <tr style=\"text-align: right;\">\n",
       "      <th></th>\n",
       "      <th>Inflight_wifi_service</th>\n",
       "      <th>Seat_comfort</th>\n",
       "      <th>Food_and_drink</th>\n",
       "      <th>Inflight_entertainment</th>\n",
       "      <th>On-board_service</th>\n",
       "      <th>Leg_room_service</th>\n",
       "      <th>Inflight_service</th>\n",
       "      <th>Cleanliness</th>\n",
       "    </tr>\n",
       "    <tr>\n",
       "      <th>Satisfied</th>\n",
       "      <th></th>\n",
       "      <th></th>\n",
       "      <th></th>\n",
       "      <th></th>\n",
       "      <th></th>\n",
       "      <th></th>\n",
       "      <th></th>\n",
       "      <th></th>\n",
       "    </tr>\n",
       "  </thead>\n",
       "  <tbody>\n",
       "    <tr>\n",
       "      <th>0</th>\n",
       "      <td>2.398470</td>\n",
       "      <td>3.038525</td>\n",
       "      <td>2.958525</td>\n",
       "      <td>2.892236</td>\n",
       "      <td>3.019570</td>\n",
       "      <td>2.990495</td>\n",
       "      <td>3.389662</td>\n",
       "      <td>2.932851</td>\n",
       "    </tr>\n",
       "    <tr>\n",
       "      <th>1</th>\n",
       "      <td>3.158135</td>\n",
       "      <td>3.966176</td>\n",
       "      <td>3.525061</td>\n",
       "      <td>3.964345</td>\n",
       "      <td>3.856475</td>\n",
       "      <td>3.820376</td>\n",
       "      <td>3.971277</td>\n",
       "      <td>3.746134</td>\n",
       "    </tr>\n",
       "  </tbody>\n",
       "</table>\n",
       "</div>"
      ],
      "text/plain": [
       "           Inflight_wifi_service  Seat_comfort  Food_and_drink  \\\n",
       "Satisfied                                                        \n",
       "0                       2.398470      3.038525        2.958525   \n",
       "1                       3.158135      3.966176        3.525061   \n",
       "\n",
       "           Inflight_entertainment  On-board_service  Leg_room_service  \\\n",
       "Satisfied                                                               \n",
       "0                        2.892236          3.019570          2.990495   \n",
       "1                        3.964345          3.856475          3.820376   \n",
       "\n",
       "           Inflight_service  Cleanliness  \n",
       "Satisfied                                 \n",
       "0                  3.389662     2.932851  \n",
       "1                  3.971277     3.746134  "
      ]
     },
     "execution_count": 37,
     "metadata": {},
     "output_type": "execute_result"
    }
   ],
   "source": [
    "df2.groupby('Satisfied')[['Inflight_wifi_service','Seat_comfort','Food_and_drink','Inflight_entertainment','On-board_service',\\\n",
    "           'Leg_room_service','Inflight_service','Cleanliness']].mean()"
   ]
  },
  {
   "cell_type": "markdown",
   "id": "2fc1de41",
   "metadata": {},
   "source": [
    "#### Average Rating of Pre-Flight Experience"
   ]
  },
  {
   "cell_type": "code",
   "execution_count": 38,
   "id": "6ca51227",
   "metadata": {
    "scrolled": false
   },
   "outputs": [
    {
     "data": {
      "text/html": [
       "<div>\n",
       "<style scoped>\n",
       "    .dataframe tbody tr th:only-of-type {\n",
       "        vertical-align: middle;\n",
       "    }\n",
       "\n",
       "    .dataframe tbody tr th {\n",
       "        vertical-align: top;\n",
       "    }\n",
       "\n",
       "    .dataframe thead th {\n",
       "        text-align: right;\n",
       "    }\n",
       "</style>\n",
       "<table border=\"1\" class=\"dataframe\">\n",
       "  <thead>\n",
       "    <tr style=\"text-align: right;\">\n",
       "      <th></th>\n",
       "      <th>Departure_Arrival_time_convenient</th>\n",
       "      <th>Ease_of_Online_booking</th>\n",
       "      <th>Gate_location</th>\n",
       "      <th>Online_boarding</th>\n",
       "      <th>Baggage_handling</th>\n",
       "      <th>Checkin_service</th>\n",
       "    </tr>\n",
       "    <tr>\n",
       "      <th>Satisfied</th>\n",
       "      <th></th>\n",
       "      <th></th>\n",
       "      <th></th>\n",
       "      <th></th>\n",
       "      <th></th>\n",
       "      <th></th>\n",
       "    </tr>\n",
       "  </thead>\n",
       "  <tbody>\n",
       "    <tr>\n",
       "      <th>0</th>\n",
       "      <td>3.130229</td>\n",
       "      <td>2.549512</td>\n",
       "      <td>2.980184</td>\n",
       "      <td>2.658846</td>\n",
       "      <td>3.374681</td>\n",
       "      <td>3.043045</td>\n",
       "    </tr>\n",
       "    <tr>\n",
       "      <th>1</th>\n",
       "      <td>2.962497</td>\n",
       "      <td>3.026554</td>\n",
       "      <td>2.972646</td>\n",
       "      <td>4.025648</td>\n",
       "      <td>3.966638</td>\n",
       "      <td>3.648786</td>\n",
       "    </tr>\n",
       "  </tbody>\n",
       "</table>\n",
       "</div>"
      ],
      "text/plain": [
       "           Departure_Arrival_time_convenient  Ease_of_Online_booking  \\\n",
       "Satisfied                                                              \n",
       "0                                   3.130229                2.549512   \n",
       "1                                   2.962497                3.026554   \n",
       "\n",
       "           Gate_location  Online_boarding  Baggage_handling  Checkin_service  \n",
       "Satisfied                                                                     \n",
       "0               2.980184         2.658846          3.374681         3.043045  \n",
       "1               2.972646         4.025648          3.966638         3.648786  "
      ]
     },
     "execution_count": 38,
     "metadata": {},
     "output_type": "execute_result"
    }
   ],
   "source": [
    "df2.groupby('Satisfied')[['Departure_Arrival_time_convenient','Ease_of_Online_booking',\\\n",
    "                         'Gate_location','Online_boarding','Baggage_handling','Checkin_service']].mean()"
   ]
  },
  {
   "cell_type": "markdown",
   "id": "f219fd69",
   "metadata": {},
   "source": [
    "#### Drill down table of Class, Customer Type, Type of Travel, and Satisfaction Category"
   ]
  },
  {
   "cell_type": "code",
   "execution_count": 39,
   "id": "8ca99135",
   "metadata": {
    "scrolled": false
   },
   "outputs": [
    {
     "data": {
      "text/html": [
       "<div>\n",
       "<style scoped>\n",
       "    .dataframe tbody tr th:only-of-type {\n",
       "        vertical-align: middle;\n",
       "    }\n",
       "\n",
       "    .dataframe tbody tr th {\n",
       "        vertical-align: top;\n",
       "    }\n",
       "\n",
       "    .dataframe thead th {\n",
       "        text-align: right;\n",
       "    }\n",
       "</style>\n",
       "<table border=\"1\" class=\"dataframe\">\n",
       "  <thead>\n",
       "    <tr style=\"text-align: right;\">\n",
       "      <th></th>\n",
       "      <th></th>\n",
       "      <th></th>\n",
       "      <th></th>\n",
       "      <th>Class</th>\n",
       "      <th>Online_boarding</th>\n",
       "      <th>Inflight_wifi_service</th>\n",
       "      <th>Cleanliness</th>\n",
       "      <th>Flight_Distance</th>\n",
       "    </tr>\n",
       "    <tr>\n",
       "      <th>Class</th>\n",
       "      <th>Customer_Type</th>\n",
       "      <th>Type_of_Travel</th>\n",
       "      <th>satisfaction</th>\n",
       "      <th></th>\n",
       "      <th></th>\n",
       "      <th></th>\n",
       "      <th></th>\n",
       "      <th></th>\n",
       "    </tr>\n",
       "  </thead>\n",
       "  <tbody>\n",
       "    <tr>\n",
       "      <th rowspan=\"7\" valign=\"top\">Business</th>\n",
       "      <th rowspan=\"4\" valign=\"top\">Loyal Customer</th>\n",
       "      <th rowspan=\"2\" valign=\"top\">Business travel</th>\n",
       "      <th>neutral or dissatisfied</th>\n",
       "      <td>11078</td>\n",
       "      <td>2.872811</td>\n",
       "      <td>2.401968</td>\n",
       "      <td>2.476350</td>\n",
       "      <td>1870.150749</td>\n",
       "    </tr>\n",
       "    <tr>\n",
       "      <th>satisfied</th>\n",
       "      <td>39191</td>\n",
       "      <td>4.180858</td>\n",
       "      <td>2.860835</td>\n",
       "      <td>3.885739</td>\n",
       "      <td>1891.831951</td>\n",
       "    </tr>\n",
       "    <tr>\n",
       "      <th rowspan=\"2\" valign=\"top\">Personal Travel</th>\n",
       "      <th>neutral or dissatisfied</th>\n",
       "      <td>2347</td>\n",
       "      <td>3.184917</td>\n",
       "      <td>2.412441</td>\n",
       "      <td>3.215594</td>\n",
       "      <td>822.424798</td>\n",
       "    </tr>\n",
       "    <tr>\n",
       "      <th>satisfied</th>\n",
       "      <td>313</td>\n",
       "      <td>3.686901</td>\n",
       "      <td>3.555911</td>\n",
       "      <td>3.246006</td>\n",
       "      <td>848.054313</td>\n",
       "    </tr>\n",
       "    <tr>\n",
       "      <th rowspan=\"3\" valign=\"top\">disloyal Customer</th>\n",
       "      <th rowspan=\"2\" valign=\"top\">Business travel</th>\n",
       "      <th>neutral or dissatisfied</th>\n",
       "      <td>5556</td>\n",
       "      <td>2.425126</td>\n",
       "      <td>2.395968</td>\n",
       "      <td>3.036717</td>\n",
       "      <td>783.253960</td>\n",
       "    </tr>\n",
       "    <tr>\n",
       "      <th>satisfied</th>\n",
       "      <td>3662</td>\n",
       "      <td>3.648553</td>\n",
       "      <td>3.740852</td>\n",
       "      <td>3.074276</td>\n",
       "      <td>754.648553</td>\n",
       "    </tr>\n",
       "    <tr>\n",
       "      <th>Personal Travel</th>\n",
       "      <th>neutral or dissatisfied</th>\n",
       "      <td>13</td>\n",
       "      <td>2.615385</td>\n",
       "      <td>2.846154</td>\n",
       "      <td>2.230769</td>\n",
       "      <td>1105.846154</td>\n",
       "    </tr>\n",
       "    <tr>\n",
       "      <th rowspan=\"8\" valign=\"top\">Eco</th>\n",
       "      <th rowspan=\"4\" valign=\"top\">Loyal Customer</th>\n",
       "      <th rowspan=\"2\" valign=\"top\">Business travel</th>\n",
       "      <th>neutral or dissatisfied</th>\n",
       "      <td>6209</td>\n",
       "      <td>2.626671</td>\n",
       "      <td>2.422773</td>\n",
       "      <td>2.475439</td>\n",
       "      <td>750.474634</td>\n",
       "    </tr>\n",
       "    <tr>\n",
       "      <th>satisfied</th>\n",
       "      <td>5645</td>\n",
       "      <td>3.814526</td>\n",
       "      <td>4.083791</td>\n",
       "      <td>3.846944</td>\n",
       "      <td>633.063950</td>\n",
       "    </tr>\n",
       "    <tr>\n",
       "      <th rowspan=\"2\" valign=\"top\">Personal Travel</th>\n",
       "      <th>neutral or dissatisfied</th>\n",
       "      <td>29488</td>\n",
       "      <td>2.687771</td>\n",
       "      <td>2.394364</td>\n",
       "      <td>3.112792</td>\n",
       "      <td>790.046087</td>\n",
       "    </tr>\n",
       "    <tr>\n",
       "      <th>satisfied</th>\n",
       "      <td>3333</td>\n",
       "      <td>3.493549</td>\n",
       "      <td>3.602760</td>\n",
       "      <td>3.108311</td>\n",
       "      <td>790.622262</td>\n",
       "    </tr>\n",
       "    <tr>\n",
       "      <th rowspan=\"4\" valign=\"top\">disloyal Customer</th>\n",
       "      <th rowspan=\"2\" valign=\"top\">Business travel</th>\n",
       "      <th>neutral or dissatisfied</th>\n",
       "      <td>11517</td>\n",
       "      <td>2.427281</td>\n",
       "      <td>2.393592</td>\n",
       "      <td>3.056699</td>\n",
       "      <td>674.540245</td>\n",
       "    </tr>\n",
       "    <tr>\n",
       "      <th>satisfied</th>\n",
       "      <td>1933</td>\n",
       "      <td>3.602690</td>\n",
       "      <td>3.705639</td>\n",
       "      <td>3.114330</td>\n",
       "      <td>671.269529</td>\n",
       "    </tr>\n",
       "    <tr>\n",
       "      <th rowspan=\"2\" valign=\"top\">Personal Travel</th>\n",
       "      <th>neutral or dissatisfied</th>\n",
       "      <td>152</td>\n",
       "      <td>2.236842</td>\n",
       "      <td>2.322368</td>\n",
       "      <td>3.171053</td>\n",
       "      <td>807.888158</td>\n",
       "    </tr>\n",
       "    <tr>\n",
       "      <th>satisfied</th>\n",
       "      <td>32</td>\n",
       "      <td>3.718750</td>\n",
       "      <td>3.843750</td>\n",
       "      <td>3.031250</td>\n",
       "      <td>855.687500</td>\n",
       "    </tr>\n",
       "    <tr>\n",
       "      <th rowspan=\"7\" valign=\"top\">Eco Plus</th>\n",
       "      <th rowspan=\"4\" valign=\"top\">Loyal Customer</th>\n",
       "      <th rowspan=\"2\" valign=\"top\">Business travel</th>\n",
       "      <th>neutral or dissatisfied</th>\n",
       "      <td>2139</td>\n",
       "      <td>2.550725</td>\n",
       "      <td>2.395979</td>\n",
       "      <td>2.441328</td>\n",
       "      <td>752.215989</td>\n",
       "    </tr>\n",
       "    <tr>\n",
       "      <th>satisfied</th>\n",
       "      <td>1852</td>\n",
       "      <td>3.733261</td>\n",
       "      <td>3.922246</td>\n",
       "      <td>3.909827</td>\n",
       "      <td>659.835853</td>\n",
       "    </tr>\n",
       "    <tr>\n",
       "      <th rowspan=\"2\" valign=\"top\">Personal Travel</th>\n",
       "      <th>neutral or dissatisfied</th>\n",
       "      <td>4111</td>\n",
       "      <td>2.705181</td>\n",
       "      <td>2.396497</td>\n",
       "      <td>3.130382</td>\n",
       "      <td>784.928971</td>\n",
       "    </tr>\n",
       "    <tr>\n",
       "      <th>satisfied</th>\n",
       "      <td>394</td>\n",
       "      <td>3.535533</td>\n",
       "      <td>3.670051</td>\n",
       "      <td>3.030457</td>\n",
       "      <td>856.406091</td>\n",
       "    </tr>\n",
       "    <tr>\n",
       "      <th rowspan=\"3\" valign=\"top\">disloyal Customer</th>\n",
       "      <th rowspan=\"2\" valign=\"top\">Business travel</th>\n",
       "      <th>neutral or dissatisfied</th>\n",
       "      <td>838</td>\n",
       "      <td>2.416468</td>\n",
       "      <td>2.379475</td>\n",
       "      <td>3.093079</td>\n",
       "      <td>703.542959</td>\n",
       "    </tr>\n",
       "    <tr>\n",
       "      <th>satisfied</th>\n",
       "      <td>73</td>\n",
       "      <td>3.246575</td>\n",
       "      <td>3.369863</td>\n",
       "      <td>3.013699</td>\n",
       "      <td>601.506849</td>\n",
       "    </tr>\n",
       "    <tr>\n",
       "      <th>Personal Travel</th>\n",
       "      <th>neutral or dissatisfied</th>\n",
       "      <td>4</td>\n",
       "      <td>2.500000</td>\n",
       "      <td>2.500000</td>\n",
       "      <td>2.500000</td>\n",
       "      <td>526.000000</td>\n",
       "    </tr>\n",
       "  </tbody>\n",
       "</table>\n",
       "</div>"
      ],
      "text/plain": [
       "                                                                    Class  \\\n",
       "Class    Customer_Type     Type_of_Travel  satisfaction                     \n",
       "Business Loyal Customer    Business travel neutral or dissatisfied  11078   \n",
       "                                           satisfied                39191   \n",
       "                           Personal Travel neutral or dissatisfied   2347   \n",
       "                                           satisfied                  313   \n",
       "         disloyal Customer Business travel neutral or dissatisfied   5556   \n",
       "                                           satisfied                 3662   \n",
       "                           Personal Travel neutral or dissatisfied     13   \n",
       "Eco      Loyal Customer    Business travel neutral or dissatisfied   6209   \n",
       "                                           satisfied                 5645   \n",
       "                           Personal Travel neutral or dissatisfied  29488   \n",
       "                                           satisfied                 3333   \n",
       "         disloyal Customer Business travel neutral or dissatisfied  11517   \n",
       "                                           satisfied                 1933   \n",
       "                           Personal Travel neutral or dissatisfied    152   \n",
       "                                           satisfied                   32   \n",
       "Eco Plus Loyal Customer    Business travel neutral or dissatisfied   2139   \n",
       "                                           satisfied                 1852   \n",
       "                           Personal Travel neutral or dissatisfied   4111   \n",
       "                                           satisfied                  394   \n",
       "         disloyal Customer Business travel neutral or dissatisfied    838   \n",
       "                                           satisfied                   73   \n",
       "                           Personal Travel neutral or dissatisfied      4   \n",
       "\n",
       "                                                                    Online_boarding  \\\n",
       "Class    Customer_Type     Type_of_Travel  satisfaction                               \n",
       "Business Loyal Customer    Business travel neutral or dissatisfied         2.872811   \n",
       "                                           satisfied                       4.180858   \n",
       "                           Personal Travel neutral or dissatisfied         3.184917   \n",
       "                                           satisfied                       3.686901   \n",
       "         disloyal Customer Business travel neutral or dissatisfied         2.425126   \n",
       "                                           satisfied                       3.648553   \n",
       "                           Personal Travel neutral or dissatisfied         2.615385   \n",
       "Eco      Loyal Customer    Business travel neutral or dissatisfied         2.626671   \n",
       "                                           satisfied                       3.814526   \n",
       "                           Personal Travel neutral or dissatisfied         2.687771   \n",
       "                                           satisfied                       3.493549   \n",
       "         disloyal Customer Business travel neutral or dissatisfied         2.427281   \n",
       "                                           satisfied                       3.602690   \n",
       "                           Personal Travel neutral or dissatisfied         2.236842   \n",
       "                                           satisfied                       3.718750   \n",
       "Eco Plus Loyal Customer    Business travel neutral or dissatisfied         2.550725   \n",
       "                                           satisfied                       3.733261   \n",
       "                           Personal Travel neutral or dissatisfied         2.705181   \n",
       "                                           satisfied                       3.535533   \n",
       "         disloyal Customer Business travel neutral or dissatisfied         2.416468   \n",
       "                                           satisfied                       3.246575   \n",
       "                           Personal Travel neutral or dissatisfied         2.500000   \n",
       "\n",
       "                                                                    Inflight_wifi_service  \\\n",
       "Class    Customer_Type     Type_of_Travel  satisfaction                                     \n",
       "Business Loyal Customer    Business travel neutral or dissatisfied               2.401968   \n",
       "                                           satisfied                             2.860835   \n",
       "                           Personal Travel neutral or dissatisfied               2.412441   \n",
       "                                           satisfied                             3.555911   \n",
       "         disloyal Customer Business travel neutral or dissatisfied               2.395968   \n",
       "                                           satisfied                             3.740852   \n",
       "                           Personal Travel neutral or dissatisfied               2.846154   \n",
       "Eco      Loyal Customer    Business travel neutral or dissatisfied               2.422773   \n",
       "                                           satisfied                             4.083791   \n",
       "                           Personal Travel neutral or dissatisfied               2.394364   \n",
       "                                           satisfied                             3.602760   \n",
       "         disloyal Customer Business travel neutral or dissatisfied               2.393592   \n",
       "                                           satisfied                             3.705639   \n",
       "                           Personal Travel neutral or dissatisfied               2.322368   \n",
       "                                           satisfied                             3.843750   \n",
       "Eco Plus Loyal Customer    Business travel neutral or dissatisfied               2.395979   \n",
       "                                           satisfied                             3.922246   \n",
       "                           Personal Travel neutral or dissatisfied               2.396497   \n",
       "                                           satisfied                             3.670051   \n",
       "         disloyal Customer Business travel neutral or dissatisfied               2.379475   \n",
       "                                           satisfied                             3.369863   \n",
       "                           Personal Travel neutral or dissatisfied               2.500000   \n",
       "\n",
       "                                                                    Cleanliness  \\\n",
       "Class    Customer_Type     Type_of_Travel  satisfaction                           \n",
       "Business Loyal Customer    Business travel neutral or dissatisfied     2.476350   \n",
       "                                           satisfied                   3.885739   \n",
       "                           Personal Travel neutral or dissatisfied     3.215594   \n",
       "                                           satisfied                   3.246006   \n",
       "         disloyal Customer Business travel neutral or dissatisfied     3.036717   \n",
       "                                           satisfied                   3.074276   \n",
       "                           Personal Travel neutral or dissatisfied     2.230769   \n",
       "Eco      Loyal Customer    Business travel neutral or dissatisfied     2.475439   \n",
       "                                           satisfied                   3.846944   \n",
       "                           Personal Travel neutral or dissatisfied     3.112792   \n",
       "                                           satisfied                   3.108311   \n",
       "         disloyal Customer Business travel neutral or dissatisfied     3.056699   \n",
       "                                           satisfied                   3.114330   \n",
       "                           Personal Travel neutral or dissatisfied     3.171053   \n",
       "                                           satisfied                   3.031250   \n",
       "Eco Plus Loyal Customer    Business travel neutral or dissatisfied     2.441328   \n",
       "                                           satisfied                   3.909827   \n",
       "                           Personal Travel neutral or dissatisfied     3.130382   \n",
       "                                           satisfied                   3.030457   \n",
       "         disloyal Customer Business travel neutral or dissatisfied     3.093079   \n",
       "                                           satisfied                   3.013699   \n",
       "                           Personal Travel neutral or dissatisfied     2.500000   \n",
       "\n",
       "                                                                    Flight_Distance  \n",
       "Class    Customer_Type     Type_of_Travel  satisfaction                              \n",
       "Business Loyal Customer    Business travel neutral or dissatisfied      1870.150749  \n",
       "                                           satisfied                    1891.831951  \n",
       "                           Personal Travel neutral or dissatisfied       822.424798  \n",
       "                                           satisfied                     848.054313  \n",
       "         disloyal Customer Business travel neutral or dissatisfied       783.253960  \n",
       "                                           satisfied                     754.648553  \n",
       "                           Personal Travel neutral or dissatisfied      1105.846154  \n",
       "Eco      Loyal Customer    Business travel neutral or dissatisfied       750.474634  \n",
       "                                           satisfied                     633.063950  \n",
       "                           Personal Travel neutral or dissatisfied       790.046087  \n",
       "                                           satisfied                     790.622262  \n",
       "         disloyal Customer Business travel neutral or dissatisfied       674.540245  \n",
       "                                           satisfied                     671.269529  \n",
       "                           Personal Travel neutral or dissatisfied       807.888158  \n",
       "                                           satisfied                     855.687500  \n",
       "Eco Plus Loyal Customer    Business travel neutral or dissatisfied       752.215989  \n",
       "                                           satisfied                     659.835853  \n",
       "                           Personal Travel neutral or dissatisfied       784.928971  \n",
       "                                           satisfied                     856.406091  \n",
       "         disloyal Customer Business travel neutral or dissatisfied       703.542959  \n",
       "                                           satisfied                     601.506849  \n",
       "                           Personal Travel neutral or dissatisfied       526.000000  "
      ]
     },
     "execution_count": 39,
     "metadata": {},
     "output_type": "execute_result"
    }
   ],
   "source": [
    "data.groupby(['Class','Customer_Type','Type_of_Travel','satisfaction']).\\\n",
    "    agg({'Class':'count','Online_boarding':'mean','Inflight_wifi_service':'mean',\\\n",
    "         'Cleanliness':'mean','Flight_Distance':'mean'})"
   ]
  },
  {
   "cell_type": "markdown",
   "id": "75b3439c",
   "metadata": {},
   "source": [
    "### Clustering"
   ]
  },
  {
   "cell_type": "markdown",
   "id": "a8114ced",
   "metadata": {},
   "source": [
    "Our initial analysis was to run a KMeans cluster to understand the various customer segments. We ran a GridSearchCV to determine the optimal hyperparameter, n_clusters, which turned out to be 4. We limited the range of clusters in our GridSearchCV since it is harder to distinguish patterns when the segments are too diluted."
   ]
  },
  {
   "cell_type": "code",
   "execution_count": 40,
   "id": "dd6ef0b0",
   "metadata": {},
   "outputs": [],
   "source": [
    "from sklearn.cluster import KMeans\n",
    "from sklearn.pipeline import Pipeline\n",
    "from sklearn.model_selection import GridSearchCV"
   ]
  },
  {
   "cell_type": "code",
   "execution_count": 41,
   "id": "561d8279",
   "metadata": {},
   "outputs": [],
   "source": [
    "X = df.drop('Satisfied',axis=1)\n",
    "y = df.Satisfied\n",
    "\n",
    "from sklearn.model_selection import train_test_split\n",
    "X_train, X_test, y_train, y_test = \\\n",
    "train_test_split(X, y, stratify=y, random_state=0,test_size = 0.2)"
   ]
  },
  {
   "cell_type": "code",
   "execution_count": 42,
   "id": "37488840",
   "metadata": {},
   "outputs": [],
   "source": [
    "pipeline = Pipeline([\n",
    "    (\"kmeans\", KMeans(random_state=0))\n",
    "])"
   ]
  },
  {
   "cell_type": "code",
   "execution_count": 43,
   "id": "76fb96ab",
   "metadata": {},
   "outputs": [
    {
     "name": "stdout",
     "output_type": "stream",
     "text": [
      "Fitting 5 folds for each of 3 candidates, totalling 15 fits\n",
      "[CV] END ...............................kmeans__n_clusters=2; total time=   0.4s\n",
      "[CV] END ...............................kmeans__n_clusters=2; total time=   0.4s\n",
      "[CV] END ...............................kmeans__n_clusters=2; total time=   0.5s\n",
      "[CV] END ...............................kmeans__n_clusters=2; total time=   0.4s\n",
      "[CV] END ...............................kmeans__n_clusters=2; total time=   0.4s\n",
      "[CV] END ...............................kmeans__n_clusters=3; total time=   0.8s\n",
      "[CV] END ...............................kmeans__n_clusters=3; total time=   0.8s\n",
      "[CV] END ...............................kmeans__n_clusters=3; total time=   0.7s\n",
      "[CV] END ...............................kmeans__n_clusters=3; total time=   0.7s\n",
      "[CV] END ...............................kmeans__n_clusters=3; total time=   0.8s\n",
      "[CV] END ...............................kmeans__n_clusters=4; total time=   0.9s\n",
      "[CV] END ...............................kmeans__n_clusters=4; total time=   0.9s\n",
      "[CV] END ...............................kmeans__n_clusters=4; total time=   0.9s\n",
      "[CV] END ...............................kmeans__n_clusters=4; total time=   1.3s\n",
      "[CV] END ...............................kmeans__n_clusters=4; total time=   2.4s\n"
     ]
    },
    {
     "data": {
      "text/plain": [
       "GridSearchCV(cv=5,\n",
       "             estimator=Pipeline(steps=[('kmeans', KMeans(random_state=0))]),\n",
       "             param_grid={'kmeans__n_clusters': range(2, 5)}, verbose=2)"
      ]
     },
     "execution_count": 43,
     "metadata": {},
     "output_type": "execute_result"
    }
   ],
   "source": [
    "param_grid = dict(kmeans__n_clusters=range(2, 5))\n",
    "grid_clf = GridSearchCV(pipeline, param_grid, cv=5, verbose=2)\n",
    "grid_clf.fit(X_train, y_train)"
   ]
  },
  {
   "cell_type": "code",
   "execution_count": 44,
   "id": "72e574c9",
   "metadata": {},
   "outputs": [
    {
     "data": {
      "text/plain": [
       "{'kmeans__n_clusters': 4}"
      ]
     },
     "execution_count": 44,
     "metadata": {},
     "output_type": "execute_result"
    }
   ],
   "source": [
    "grid_clf.best_params_"
   ]
  },
  {
   "cell_type": "code",
   "execution_count": 45,
   "id": "3099dbd1",
   "metadata": {},
   "outputs": [],
   "source": [
    "clu = KMeans(n_clusters=4, random_state=0)"
   ]
  },
  {
   "cell_type": "code",
   "execution_count": 46,
   "id": "8f327aa9",
   "metadata": {},
   "outputs": [
    {
     "data": {
      "text/plain": [
       "KMeans(n_clusters=4, random_state=0)"
      ]
     },
     "execution_count": 46,
     "metadata": {},
     "output_type": "execute_result"
    },
    {
     "data": {
      "text/plain": [
       "array([2, 1, 2, ..., 3, 0, 3], dtype=int32)"
      ]
     },
     "execution_count": 46,
     "metadata": {},
     "output_type": "execute_result"
    }
   ],
   "source": [
    "clu.fit(df)\n",
    "clu.labels_"
   ]
  },
  {
   "cell_type": "code",
   "execution_count": 47,
   "id": "519d894c",
   "metadata": {},
   "outputs": [],
   "source": [
    "df['cluster']=clu.labels_"
   ]
  },
  {
   "cell_type": "code",
   "execution_count": 48,
   "id": "354b1060",
   "metadata": {
    "scrolled": true
   },
   "outputs": [
    {
     "data": {
      "text/html": [
       "<div>\n",
       "<style scoped>\n",
       "    .dataframe tbody tr th:only-of-type {\n",
       "        vertical-align: middle;\n",
       "    }\n",
       "\n",
       "    .dataframe tbody tr th {\n",
       "        vertical-align: top;\n",
       "    }\n",
       "\n",
       "    .dataframe thead th {\n",
       "        text-align: right;\n",
       "    }\n",
       "</style>\n",
       "<table border=\"1\" class=\"dataframe\">\n",
       "  <thead>\n",
       "    <tr style=\"text-align: right;\">\n",
       "      <th></th>\n",
       "      <th>Male</th>\n",
       "      <th>Loyal_Customer</th>\n",
       "      <th>Age</th>\n",
       "      <th>Business_travel</th>\n",
       "      <th>Flight_Distance</th>\n",
       "      <th>Inflight_wifi_service</th>\n",
       "      <th>Departure_Arrival_time_convenient</th>\n",
       "      <th>Ease_of_Online_booking</th>\n",
       "      <th>Gate_location</th>\n",
       "      <th>Food_and_drink</th>\n",
       "      <th>...</th>\n",
       "      <th>Baggage_handling</th>\n",
       "      <th>Checkin_service</th>\n",
       "      <th>Inflight_service</th>\n",
       "      <th>Cleanliness</th>\n",
       "      <th>Departure_Delay_in_Minutes</th>\n",
       "      <th>Arrival_Delay_in_Minutes</th>\n",
       "      <th>Satisfied</th>\n",
       "      <th>Class_Business</th>\n",
       "      <th>Class_Eco</th>\n",
       "      <th>Class_Eco Plus</th>\n",
       "    </tr>\n",
       "    <tr>\n",
       "      <th>cluster</th>\n",
       "      <th></th>\n",
       "      <th></th>\n",
       "      <th></th>\n",
       "      <th></th>\n",
       "      <th></th>\n",
       "      <th></th>\n",
       "      <th></th>\n",
       "      <th></th>\n",
       "      <th></th>\n",
       "      <th></th>\n",
       "      <th></th>\n",
       "      <th></th>\n",
       "      <th></th>\n",
       "      <th></th>\n",
       "      <th></th>\n",
       "      <th></th>\n",
       "      <th></th>\n",
       "      <th></th>\n",
       "      <th></th>\n",
       "      <th></th>\n",
       "      <th></th>\n",
       "    </tr>\n",
       "  </thead>\n",
       "  <tbody>\n",
       "    <tr>\n",
       "      <th>0</th>\n",
       "      <td>0.493945</td>\n",
       "      <td>0.767803</td>\n",
       "      <td>37.573967</td>\n",
       "      <td>0.636487</td>\n",
       "      <td>1124.338322</td>\n",
       "      <td>2.741051</td>\n",
       "      <td>3.152736</td>\n",
       "      <td>2.756754</td>\n",
       "      <td>2.956012</td>\n",
       "      <td>3.182817</td>\n",
       "      <td>...</td>\n",
       "      <td>3.617307</td>\n",
       "      <td>3.311924</td>\n",
       "      <td>3.650983</td>\n",
       "      <td>3.253027</td>\n",
       "      <td>15.409829</td>\n",
       "      <td>15.625821</td>\n",
       "      <td>0.373825</td>\n",
       "      <td>0.389382</td>\n",
       "      <td>0.529861</td>\n",
       "      <td>0.080758</td>\n",
       "    </tr>\n",
       "    <tr>\n",
       "      <th>1</th>\n",
       "      <td>0.497670</td>\n",
       "      <td>0.997188</td>\n",
       "      <td>43.509883</td>\n",
       "      <td>0.991644</td>\n",
       "      <td>3407.981279</td>\n",
       "      <td>2.735979</td>\n",
       "      <td>2.930982</td>\n",
       "      <td>2.916680</td>\n",
       "      <td>2.994135</td>\n",
       "      <td>3.386389</td>\n",
       "      <td>...</td>\n",
       "      <td>3.793749</td>\n",
       "      <td>3.483288</td>\n",
       "      <td>3.795115</td>\n",
       "      <td>3.560903</td>\n",
       "      <td>14.772136</td>\n",
       "      <td>15.130805</td>\n",
       "      <td>0.772296</td>\n",
       "      <td>0.989394</td>\n",
       "      <td>0.008838</td>\n",
       "      <td>0.001768</td>\n",
       "    </tr>\n",
       "    <tr>\n",
       "      <th>2</th>\n",
       "      <td>0.490208</td>\n",
       "      <td>0.758414</td>\n",
       "      <td>38.824941</td>\n",
       "      <td>0.608385</td>\n",
       "      <td>410.970476</td>\n",
       "      <td>2.717229</td>\n",
       "      <td>3.048862</td>\n",
       "      <td>2.683457</td>\n",
       "      <td>2.978070</td>\n",
       "      <td>3.149013</td>\n",
       "      <td>...</td>\n",
       "      <td>3.575974</td>\n",
       "      <td>3.226315</td>\n",
       "      <td>3.581895</td>\n",
       "      <td>3.190461</td>\n",
       "      <td>14.350348</td>\n",
       "      <td>15.023078</td>\n",
       "      <td>0.331863</td>\n",
       "      <td>0.314542</td>\n",
       "      <td>0.588981</td>\n",
       "      <td>0.096477</td>\n",
       "    </tr>\n",
       "    <tr>\n",
       "      <th>3</th>\n",
       "      <td>0.494217</td>\n",
       "      <td>0.951699</td>\n",
       "      <td>41.641560</td>\n",
       "      <td>0.831737</td>\n",
       "      <td>2190.667721</td>\n",
       "      <td>2.736355</td>\n",
       "      <td>3.005512</td>\n",
       "      <td>2.868923</td>\n",
       "      <td>2.996069</td>\n",
       "      <td>3.289400</td>\n",
       "      <td>...</td>\n",
       "      <td>3.717242</td>\n",
       "      <td>3.418128</td>\n",
       "      <td>3.709877</td>\n",
       "      <td>3.446458</td>\n",
       "      <td>14.202828</td>\n",
       "      <td>14.436291</td>\n",
       "      <td>0.620324</td>\n",
       "      <td>0.780905</td>\n",
       "      <td>0.185885</td>\n",
       "      <td>0.033210</td>\n",
       "    </tr>\n",
       "  </tbody>\n",
       "</table>\n",
       "<p>4 rows × 25 columns</p>\n",
       "</div>"
      ],
      "text/plain": [
       "             Male  Loyal_Customer        Age  Business_travel  \\\n",
       "cluster                                                         \n",
       "0        0.493945        0.767803  37.573967         0.636487   \n",
       "1        0.497670        0.997188  43.509883         0.991644   \n",
       "2        0.490208        0.758414  38.824941         0.608385   \n",
       "3        0.494217        0.951699  41.641560         0.831737   \n",
       "\n",
       "         Flight_Distance  Inflight_wifi_service  \\\n",
       "cluster                                           \n",
       "0            1124.338322               2.741051   \n",
       "1            3407.981279               2.735979   \n",
       "2             410.970476               2.717229   \n",
       "3            2190.667721               2.736355   \n",
       "\n",
       "         Departure_Arrival_time_convenient  Ease_of_Online_booking  \\\n",
       "cluster                                                              \n",
       "0                                 3.152736                2.756754   \n",
       "1                                 2.930982                2.916680   \n",
       "2                                 3.048862                2.683457   \n",
       "3                                 3.005512                2.868923   \n",
       "\n",
       "         Gate_location  Food_and_drink  ...  Baggage_handling  \\\n",
       "cluster                                 ...                     \n",
       "0             2.956012        3.182817  ...          3.617307   \n",
       "1             2.994135        3.386389  ...          3.793749   \n",
       "2             2.978070        3.149013  ...          3.575974   \n",
       "3             2.996069        3.289400  ...          3.717242   \n",
       "\n",
       "         Checkin_service  Inflight_service  Cleanliness  \\\n",
       "cluster                                                   \n",
       "0               3.311924          3.650983     3.253027   \n",
       "1               3.483288          3.795115     3.560903   \n",
       "2               3.226315          3.581895     3.190461   \n",
       "3               3.418128          3.709877     3.446458   \n",
       "\n",
       "         Departure_Delay_in_Minutes  Arrival_Delay_in_Minutes  Satisfied  \\\n",
       "cluster                                                                    \n",
       "0                         15.409829                 15.625821   0.373825   \n",
       "1                         14.772136                 15.130805   0.772296   \n",
       "2                         14.350348                 15.023078   0.331863   \n",
       "3                         14.202828                 14.436291   0.620324   \n",
       "\n",
       "         Class_Business  Class_Eco  Class_Eco Plus  \n",
       "cluster                                             \n",
       "0              0.389382   0.529861        0.080758  \n",
       "1              0.989394   0.008838        0.001768  \n",
       "2              0.314542   0.588981        0.096477  \n",
       "3              0.780905   0.185885        0.033210  \n",
       "\n",
       "[4 rows x 25 columns]"
      ]
     },
     "execution_count": 48,
     "metadata": {},
     "output_type": "execute_result"
    }
   ],
   "source": [
    "df.groupby('cluster').mean()"
   ]
  },
  {
   "cell_type": "markdown",
   "id": "d1eb2438",
   "metadata": {},
   "source": [
    "<div class=\"alert alert-block alert-info\"> <u>Conclusion:</u> \n",
    "<br>\n",
    "Customer Type A (Cluster 1 & 3): Loyal, satisfied customers who on average fly longer distances and fly business class.\n",
    "<br> \n",
    "Customer Type B (Cluster 0 & 2): Disloyal, unsatisfied customers who on average fly shorter distances and tend to fly economy or economy plus."
   ]
  },
  {
   "cell_type": "markdown",
   "id": "69dcdc8d",
   "metadata": {},
   "source": [
    "### Decision Tree"
   ]
  },
  {
   "cell_type": "markdown",
   "id": "2df62f15",
   "metadata": {},
   "source": [
    "Since satisfaction was one of the distinguishing attributes between customers, we ran a decision tree with the target variable as 'Satisfaction' to understand what aspects of the customer's flight journey most impact their overall happiness with the experience. We also used GridSearchCV to tune the hyperparameter, max_depth, however we employed early stoppage to ensure we would be able to interpret the DT appropriately. This still produced a fairly decent test score of 0.88."
   ]
  },
  {
   "cell_type": "code",
   "execution_count": 49,
   "id": "4dc4a9be",
   "metadata": {},
   "outputs": [],
   "source": [
    "import sklearn as sk\n",
    "import sklearn.tree as tree\n",
    "from IPython.display import Image  \n",
    "import pydotplus\n",
    "from sklearn.tree import DecisionTreeClassifier, export_graphviz"
   ]
  },
  {
   "cell_type": "code",
   "execution_count": 50,
   "id": "319f33de",
   "metadata": {},
   "outputs": [],
   "source": [
    "X = df.drop('Satisfied',axis=1)\n",
    "y = df.Satisfied"
   ]
  },
  {
   "cell_type": "code",
   "execution_count": 51,
   "id": "f1f9e1c5",
   "metadata": {},
   "outputs": [],
   "source": [
    "from sklearn.model_selection import train_test_split\n",
    "X_train, X_test, y_train, y_test = \\\n",
    "train_test_split(X, y, stratify=y, random_state=0,test_size = 0.2)"
   ]
  },
  {
   "cell_type": "code",
   "execution_count": 52,
   "id": "8663d6a0",
   "metadata": {},
   "outputs": [],
   "source": [
    "df_feature_names = X.columns.tolist()\n",
    "df_target_names = [str(s) for s in y.unique()]"
   ]
  },
  {
   "cell_type": "markdown",
   "id": "7e65673f",
   "metadata": {},
   "source": [
    "#### Decision Tree Parameter Tuning"
   ]
  },
  {
   "cell_type": "code",
   "execution_count": 53,
   "id": "557304e1",
   "metadata": {
    "scrolled": false
   },
   "outputs": [
    {
     "data": {
      "text/plain": [
       "GridSearchCV(cv=10, estimator=DecisionTreeClassifier(random_state=0),\n",
       "             param_grid={'max_depth': range(1, 5)}, return_train_score=True)"
      ]
     },
     "execution_count": 53,
     "metadata": {},
     "output_type": "execute_result"
    },
    {
     "data": {
      "text/plain": [
       "<AxesSubplot:xlabel='param_max_depth'>"
      ]
     },
     "execution_count": 53,
     "metadata": {},
     "output_type": "execute_result"
    },
    {
     "data": {
      "text/plain": [
       "<AxesSubplot:xlabel='param_max_depth'>"
      ]
     },
     "execution_count": 53,
     "metadata": {},
     "output_type": "execute_result"
    },
    {
     "data": {
      "image/png": "[encoded data removed]",
      "text/plain": [
       "<Figure size 432x288 with 1 Axes>"
      ]
     },
     "metadata": {
      "needs_background": "light"
     },
     "output_type": "display_data"
    }
   ],
   "source": [
    "from sklearn.model_selection import GridSearchCV\n",
    "param_grid = {'max_depth':range(1, 5)}\n",
    "grid = GridSearchCV(DecisionTreeClassifier(random_state=0), param_grid=param_grid, cv=10, return_train_score=True)\n",
    "grid.fit(X_train, y_train)\n",
    "\n",
    "scores = pd.DataFrame(grid.cv_results_)\n",
    "scores.plot(x='param_max_depth', y='mean_train_score', yerr='std_train_score', ax=plt.gca())\n",
    "scores.plot(x='param_max_depth', y='mean_test_score', yerr='std_test_score', ax=plt.gca())"
   ]
  },
  {
   "cell_type": "code",
   "execution_count": 54,
   "id": "4f05baf8",
   "metadata": {},
   "outputs": [
    {
     "data": {
      "text/plain": [
       "{'max_depth': 4}"
      ]
     },
     "execution_count": 54,
     "metadata": {},
     "output_type": "execute_result"
    },
    {
     "data": {
      "text/plain": [
       "0.8849718124951734"
      ]
     },
     "execution_count": 54,
     "metadata": {},
     "output_type": "execute_result"
    }
   ],
   "source": [
    "grid.best_params_\n",
    "grid.score(X_test, y_test)"
   ]
  },
  {
   "cell_type": "code",
   "execution_count": 55,
   "id": "d0d48263",
   "metadata": {},
   "outputs": [
    {
     "data": {
      "text/plain": [
       "DecisionTreeClassifier(criterion='entropy', max_depth=3)"
      ]
     },
     "execution_count": 55,
     "metadata": {},
     "output_type": "execute_result"
    },
    {
     "data": {
      "text/plain": [
       "0.8817283187890956"
      ]
     },
     "execution_count": 55,
     "metadata": {},
     "output_type": "execute_result"
    }
   ],
   "source": [
    "tree = DecisionTreeClassifier(max_depth=3, criterion='entropy')\n",
    "tree.fit(X_train, y_train)\n",
    "tree.score(X_test, y_test)"
   ]
  },
  {
   "cell_type": "code",
   "execution_count": 56,
   "id": "42b24c58",
   "metadata": {
    "scrolled": false
   },
   "outputs": [
    {
     "data": {
      "text/plain": [
       "<Figure size 3000x900 with 0 Axes>"
      ]
     },
     "execution_count": 56,
     "metadata": {},
     "output_type": "execute_result"
    },
    {
     "data": {
      "text/plain": [
       "'no_pruning.png'"
      ]
     },
     "execution_count": 56,
     "metadata": {},
     "output_type": "execute_result"
    },
    {
     "data": {
      "image/svg+xml": [
       "<?xml version=\"1.0\" encoding=\"UTF-8\" standalone=\"no\"?>\n",
       "<!DOCTYPE svg PUBLIC \"-//W3C//DTD SVG 1.1//EN\"\n",
       " \"http://www.w3.org/Graphics/SVG/1.1/DTD/svg11.dtd\">\n",
       "<!-- Generated by graphviz version 2.49.3 (20211023.0002)\n",
       " -->\n",
       "<!-- Title: Tree Pages: 1 -->\n",
       "<svg width=\"1144pt\" height=\"433pt\"\n",
       " viewBox=\"0.00 0.00 1143.50 433.00\" xmlns=\"http://www.w3.org/2000/svg\" xmlns:xlink=\"http://www.w3.org/1999/xlink\">\n",
       "<g id=\"graph0\" class=\"graph\" transform=\"scale(1 1) rotate(0) translate(4 429)\">\n",
       "<title>Tree</title>\n",
       "<polygon fill=\"white\" stroke=\"transparent\" points=\"-4,4 -4,-429 1139.5,-429 1139.5,4 -4,4\"/>\n",
       "<!-- 0 -->\n",
       "<g id=\"node1\" class=\"node\">\n",
       "<title>0</title>\n",
       "<polygon fill=\"#f9e2d1\" stroke=\"black\" points=\"609.5,-425 457.5,-425 457.5,-342 609.5,-342 609.5,-425\"/>\n",
       "<text text-anchor=\"middle\" x=\"533.5\" y=\"-409.8\" font-family=\"Times,serif\" font-size=\"14.00\">Online_boarding &lt;= 3.5</text>\n",
       "<text text-anchor=\"middle\" x=\"533.5\" y=\"-394.8\" font-family=\"Times,serif\" font-size=\"14.00\">entropy = 0.988</text>\n",
       "<text text-anchor=\"middle\" x=\"533.5\" y=\"-379.8\" font-family=\"Times,serif\" font-size=\"14.00\">samples = 103589</text>\n",
       "<text text-anchor=\"middle\" x=\"533.5\" y=\"-364.8\" font-family=\"Times,serif\" font-size=\"14.00\">value = [58580, 45009]</text>\n",
       "<text text-anchor=\"middle\" x=\"533.5\" y=\"-349.8\" font-family=\"Times,serif\" font-size=\"14.00\">class = 1</text>\n",
       "</g>\n",
       "<!-- 1 -->\n",
       "<g id=\"node2\" class=\"node\">\n",
       "<title>1</title>\n",
       "<polygon fill=\"#ea975c\" stroke=\"black\" points=\"525,-306 352,-306 352,-223 525,-223 525,-306\"/>\n",
       "<text text-anchor=\"middle\" x=\"438.5\" y=\"-290.8\" font-family=\"Times,serif\" font-size=\"14.00\">Inflight_wifi_service &lt;= 0.5</text>\n",
       "<text text-anchor=\"middle\" x=\"438.5\" y=\"-275.8\" font-family=\"Times,serif\" font-size=\"14.00\">entropy = 0.61</text>\n",
       "<text text-anchor=\"middle\" x=\"438.5\" y=\"-260.8\" font-family=\"Times,serif\" font-size=\"14.00\">samples = 52083</text>\n",
       "<text text-anchor=\"middle\" x=\"438.5\" y=\"-245.8\" font-family=\"Times,serif\" font-size=\"14.00\">value = [44277, 7806]</text>\n",
       "<text text-anchor=\"middle\" x=\"438.5\" y=\"-230.8\" font-family=\"Times,serif\" font-size=\"14.00\">class = 1</text>\n",
       "</g>\n",
       "<!-- 0&#45;&gt;1 -->\n",
       "<g id=\"edge1\" class=\"edge\">\n",
       "<title>0&#45;&gt;1</title>\n",
       "<path fill=\"none\" stroke=\"black\" d=\"M500.54,-341.91C493.25,-332.92 485.44,-323.32 477.92,-314.05\"/>\n",
       "<polygon fill=\"black\" stroke=\"black\" points=\"480.42,-311.58 471.4,-306.02 474.99,-315.99 480.42,-311.58\"/>\n",
       "<text text-anchor=\"middle\" x=\"468.82\" y=\"-327.19\" font-family=\"Times,serif\" font-size=\"14.00\">True</text>\n",
       "</g>\n",
       "<!-- 8 -->\n",
       "<g id=\"node9\" class=\"node\">\n",
       "<title>8</title>\n",
       "<polygon fill=\"#85c3ef\" stroke=\"black\" points=\"736.5,-306 588.5,-306 588.5,-223 736.5,-223 736.5,-306\"/>\n",
       "<text text-anchor=\"middle\" x=\"662.5\" y=\"-290.8\" font-family=\"Times,serif\" font-size=\"14.00\">Business_travel &lt;= 0.5</text>\n",
       "<text text-anchor=\"middle\" x=\"662.5\" y=\"-275.8\" font-family=\"Times,serif\" font-size=\"14.00\">entropy = 0.852</text>\n",
       "<text text-anchor=\"middle\" x=\"662.5\" y=\"-260.8\" font-family=\"Times,serif\" font-size=\"14.00\">samples = 51506</text>\n",
       "<text text-anchor=\"middle\" x=\"662.5\" y=\"-245.8\" font-family=\"Times,serif\" font-size=\"14.00\">value = [14303, 37203]</text>\n",
       "<text text-anchor=\"middle\" x=\"662.5\" y=\"-230.8\" font-family=\"Times,serif\" font-size=\"14.00\">class = 0</text>\n",
       "</g>\n",
       "<!-- 0&#45;&gt;8 -->\n",
       "<g id=\"edge8\" class=\"edge\">\n",
       "<title>0&#45;&gt;8</title>\n",
       "<path fill=\"none\" stroke=\"black\" d=\"M578.26,-341.91C588.56,-332.56 599.61,-322.54 610.21,-312.93\"/>\n",
       "<polygon fill=\"black\" stroke=\"black\" points=\"612.77,-315.33 617.82,-306.02 608.06,-310.15 612.77,-315.33\"/>\n",
       "<text text-anchor=\"middle\" x=\"616.61\" y=\"-327.29\" font-family=\"Times,serif\" font-size=\"14.00\">False</text>\n",
       "</g>\n",
       "<!-- 2 -->\n",
       "<g id=\"node3\" class=\"node\">\n",
       "<title>2</title>\n",
       "<polygon fill=\"#3a9ee5\" stroke=\"black\" points=\"264.5,-187 82.5,-187 82.5,-104 264.5,-104 264.5,-187\"/>\n",
       "<text text-anchor=\"middle\" x=\"173.5\" y=\"-171.8\" font-family=\"Times,serif\" font-size=\"14.00\">Inflight_entertainment &lt;= 0.5</text>\n",
       "<text text-anchor=\"middle\" x=\"173.5\" y=\"-156.8\" font-family=\"Times,serif\" font-size=\"14.00\">entropy = 0.049</text>\n",
       "<text text-anchor=\"middle\" x=\"173.5\" y=\"-141.8\" font-family=\"Times,serif\" font-size=\"14.00\">samples = 1816</text>\n",
       "<text text-anchor=\"middle\" x=\"173.5\" y=\"-126.8\" font-family=\"Times,serif\" font-size=\"14.00\">value = [10, 1806]</text>\n",
       "<text text-anchor=\"middle\" x=\"173.5\" y=\"-111.8\" font-family=\"Times,serif\" font-size=\"14.00\">class = 0</text>\n",
       "</g>\n",
       "<!-- 1&#45;&gt;2 -->\n",
       "<g id=\"edge2\" class=\"edge\">\n",
       "<title>1&#45;&gt;2</title>\n",
       "<path fill=\"none\" stroke=\"black\" d=\"M351.73,-225.19C326.86,-214.21 299.54,-202.15 273.92,-190.84\"/>\n",
       "<polygon fill=\"black\" stroke=\"black\" points=\"275.13,-187.54 264.56,-186.71 272.3,-193.95 275.13,-187.54\"/>\n",
       "</g>\n",
       "<!-- 5 -->\n",
       "<g id=\"node6\" class=\"node\">\n",
       "<title>5</title>\n",
       "<polygon fill=\"#e99254\" stroke=\"black\" points=\"525,-187 352,-187 352,-104 525,-104 525,-187\"/>\n",
       "<text text-anchor=\"middle\" x=\"438.5\" y=\"-171.8\" font-family=\"Times,serif\" font-size=\"14.00\">Inflight_wifi_service &lt;= 3.5</text>\n",
       "<text text-anchor=\"middle\" x=\"438.5\" y=\"-156.8\" font-family=\"Times,serif\" font-size=\"14.00\">entropy = 0.528</text>\n",
       "<text text-anchor=\"middle\" x=\"438.5\" y=\"-141.8\" font-family=\"Times,serif\" font-size=\"14.00\">samples = 50267</text>\n",
       "<text text-anchor=\"middle\" x=\"438.5\" y=\"-126.8\" font-family=\"Times,serif\" font-size=\"14.00\">value = [44267, 6000]</text>\n",
       "<text text-anchor=\"middle\" x=\"438.5\" y=\"-111.8\" font-family=\"Times,serif\" font-size=\"14.00\">class = 1</text>\n",
       "</g>\n",
       "<!-- 1&#45;&gt;5 -->\n",
       "<g id=\"edge5\" class=\"edge\">\n",
       "<title>1&#45;&gt;5</title>\n",
       "<path fill=\"none\" stroke=\"black\" d=\"M438.5,-222.91C438.5,-214.65 438.5,-205.86 438.5,-197.3\"/>\n",
       "<polygon fill=\"black\" stroke=\"black\" points=\"442,-197.02 438.5,-187.02 435,-197.02 442,-197.02\"/>\n",
       "</g>\n",
       "<!-- 3 -->\n",
       "<g id=\"node4\" class=\"node\">\n",
       "<title>3</title>\n",
       "<polygon fill=\"#e58139\" stroke=\"black\" points=\"99,-68 0,-68 0,0 99,0 99,-68\"/>\n",
       "<text text-anchor=\"middle\" x=\"49.5\" y=\"-52.8\" font-family=\"Times,serif\" font-size=\"14.00\">entropy = 0.0</text>\n",
       "<text text-anchor=\"middle\" x=\"49.5\" y=\"-37.8\" font-family=\"Times,serif\" font-size=\"14.00\">samples = 10</text>\n",
       "<text text-anchor=\"middle\" x=\"49.5\" y=\"-22.8\" font-family=\"Times,serif\" font-size=\"14.00\">value = [10, 0]</text>\n",
       "<text text-anchor=\"middle\" x=\"49.5\" y=\"-7.8\" font-family=\"Times,serif\" font-size=\"14.00\">class = 1</text>\n",
       "</g>\n",
       "<!-- 2&#45;&gt;3 -->\n",
       "<g id=\"edge3\" class=\"edge\">\n",
       "<title>2&#45;&gt;3</title>\n",
       "<path fill=\"none\" stroke=\"black\" d=\"M127.33,-103.73C116.69,-94.33 105.38,-84.35 94.78,-74.99\"/>\n",
       "<polygon fill=\"black\" stroke=\"black\" points=\"97.02,-72.3 87.21,-68.3 92.39,-77.54 97.02,-72.3\"/>\n",
       "</g>\n",
       "<!-- 4 -->\n",
       "<g id=\"node5\" class=\"node\">\n",
       "<title>4</title>\n",
       "<polygon fill=\"#399de5\" stroke=\"black\" points=\"230,-68 117,-68 117,0 230,0 230,-68\"/>\n",
       "<text text-anchor=\"middle\" x=\"173.5\" y=\"-52.8\" font-family=\"Times,serif\" font-size=\"14.00\">entropy = 0.0</text>\n",
       "<text text-anchor=\"middle\" x=\"173.5\" y=\"-37.8\" font-family=\"Times,serif\" font-size=\"14.00\">samples = 1806</text>\n",
       "<text text-anchor=\"middle\" x=\"173.5\" y=\"-22.8\" font-family=\"Times,serif\" font-size=\"14.00\">value = [0, 1806]</text>\n",
       "<text text-anchor=\"middle\" x=\"173.5\" y=\"-7.8\" font-family=\"Times,serif\" font-size=\"14.00\">class = 0</text>\n",
       "</g>\n",
       "<!-- 2&#45;&gt;4 -->\n",
       "<g id=\"edge4\" class=\"edge\">\n",
       "<title>2&#45;&gt;4</title>\n",
       "<path fill=\"none\" stroke=\"black\" d=\"M173.5,-103.73C173.5,-95.52 173.5,-86.86 173.5,-78.56\"/>\n",
       "<polygon fill=\"black\" stroke=\"black\" points=\"177,-78.3 173.5,-68.3 170,-78.3 177,-78.3\"/>\n",
       "</g>\n",
       "<!-- 6 -->\n",
       "<g id=\"node7\" class=\"node\">\n",
       "<title>6</title>\n",
       "<polygon fill=\"#e78a47\" stroke=\"black\" points=\"389,-68 248,-68 248,0 389,0 389,-68\"/>\n",
       "<text text-anchor=\"middle\" x=\"318.5\" y=\"-52.8\" font-family=\"Times,serif\" font-size=\"14.00\">entropy = 0.346</text>\n",
       "<text text-anchor=\"middle\" x=\"318.5\" y=\"-37.8\" font-family=\"Times,serif\" font-size=\"14.00\">samples = 45527</text>\n",
       "<text text-anchor=\"middle\" x=\"318.5\" y=\"-22.8\" font-family=\"Times,serif\" font-size=\"14.00\">value = [42579, 2948]</text>\n",
       "<text text-anchor=\"middle\" x=\"318.5\" y=\"-7.8\" font-family=\"Times,serif\" font-size=\"14.00\">class = 1</text>\n",
       "</g>\n",
       "<!-- 5&#45;&gt;6 -->\n",
       "<g id=\"edge6\" class=\"edge\">\n",
       "<title>5&#45;&gt;6</title>\n",
       "<path fill=\"none\" stroke=\"black\" d=\"M393.82,-103.73C383.62,-94.42 372.79,-84.54 362.62,-75.26\"/>\n",
       "<polygon fill=\"black\" stroke=\"black\" points=\"364.74,-72.45 354.99,-68.3 360.02,-77.63 364.74,-72.45\"/>\n",
       "</g>\n",
       "<!-- 7 -->\n",
       "<g id=\"node8\" class=\"node\">\n",
       "<title>7</title>\n",
       "<polygon fill=\"#a7d3f3\" stroke=\"black\" points=\"541.5,-68 407.5,-68 407.5,0 541.5,0 541.5,-68\"/>\n",
       "<text text-anchor=\"middle\" x=\"474.5\" y=\"-52.8\" font-family=\"Times,serif\" font-size=\"14.00\">entropy = 0.939</text>\n",
       "<text text-anchor=\"middle\" x=\"474.5\" y=\"-37.8\" font-family=\"Times,serif\" font-size=\"14.00\">samples = 4740</text>\n",
       "<text text-anchor=\"middle\" x=\"474.5\" y=\"-22.8\" font-family=\"Times,serif\" font-size=\"14.00\">value = [1688, 3052]</text>\n",
       "<text text-anchor=\"middle\" x=\"474.5\" y=\"-7.8\" font-family=\"Times,serif\" font-size=\"14.00\">class = 0</text>\n",
       "</g>\n",
       "<!-- 5&#45;&gt;7 -->\n",
       "<g id=\"edge7\" class=\"edge\">\n",
       "<title>5&#45;&gt;7</title>\n",
       "<path fill=\"none\" stroke=\"black\" d=\"M451.91,-103.73C454.66,-95.34 457.58,-86.47 460.36,-78.01\"/>\n",
       "<polygon fill=\"black\" stroke=\"black\" points=\"463.75,-78.89 463.55,-68.3 457.1,-76.71 463.75,-78.89\"/>\n",
       "</g>\n",
       "<!-- 9 -->\n",
       "<g id=\"node10\" class=\"node\">\n",
       "<title>9</title>\n",
       "<polygon fill=\"#eca470\" stroke=\"black\" points=\"749,-187 576,-187 576,-104 749,-104 749,-187\"/>\n",
       "<text text-anchor=\"middle\" x=\"662.5\" y=\"-171.8\" font-family=\"Times,serif\" font-size=\"14.00\">Inflight_wifi_service &lt;= 4.5</text>\n",
       "<text text-anchor=\"middle\" x=\"662.5\" y=\"-156.8\" font-family=\"Times,serif\" font-size=\"14.00\">entropy = 0.758</text>\n",
       "<text text-anchor=\"middle\" x=\"662.5\" y=\"-141.8\" font-family=\"Times,serif\" font-size=\"14.00\">samples = 10528</text>\n",
       "<text text-anchor=\"middle\" x=\"662.5\" y=\"-126.8\" font-family=\"Times,serif\" font-size=\"14.00\">value = [8227, 2301]</text>\n",
       "<text text-anchor=\"middle\" x=\"662.5\" y=\"-111.8\" font-family=\"Times,serif\" font-size=\"14.00\">class = 1</text>\n",
       "</g>\n",
       "<!-- 8&#45;&gt;9 -->\n",
       "<g id=\"edge9\" class=\"edge\">\n",
       "<title>8&#45;&gt;9</title>\n",
       "<path fill=\"none\" stroke=\"black\" d=\"M662.5,-222.91C662.5,-214.65 662.5,-205.86 662.5,-197.3\"/>\n",
       "<polygon fill=\"black\" stroke=\"black\" points=\"666,-197.02 662.5,-187.02 659,-197.02 666,-197.02\"/>\n",
       "</g>\n",
       "<!-- 12 -->\n",
       "<g id=\"node13\" class=\"node\">\n",
       "<title>12</title>\n",
       "<polygon fill=\"#5baeea\" stroke=\"black\" points=\"988.5,-187 836.5,-187 836.5,-104 988.5,-104 988.5,-187\"/>\n",
       "<text text-anchor=\"middle\" x=\"912.5\" y=\"-171.8\" font-family=\"Times,serif\" font-size=\"14.00\">Online_boarding &lt;= 4.5</text>\n",
       "<text text-anchor=\"middle\" x=\"912.5\" y=\"-156.8\" font-family=\"Times,serif\" font-size=\"14.00\">entropy = 0.606</text>\n",
       "<text text-anchor=\"middle\" x=\"912.5\" y=\"-141.8\" font-family=\"Times,serif\" font-size=\"14.00\">samples = 40978</text>\n",
       "<text text-anchor=\"middle\" x=\"912.5\" y=\"-126.8\" font-family=\"Times,serif\" font-size=\"14.00\">value = [6076, 34902]</text>\n",
       "<text text-anchor=\"middle\" x=\"912.5\" y=\"-111.8\" font-family=\"Times,serif\" font-size=\"14.00\">class = 0</text>\n",
       "</g>\n",
       "<!-- 8&#45;&gt;12 -->\n",
       "<g id=\"edge12\" class=\"edge\">\n",
       "<title>8&#45;&gt;12</title>\n",
       "<path fill=\"none\" stroke=\"black\" d=\"M736.83,-228.71C765.14,-215.46 797.63,-200.26 826.91,-186.56\"/>\n",
       "<polygon fill=\"black\" stroke=\"black\" points=\"828.72,-189.58 836.29,-182.17 825.75,-183.23 828.72,-189.58\"/>\n",
       "</g>\n",
       "<!-- 10 -->\n",
       "<g id=\"node11\" class=\"node\">\n",
       "<title>10</title>\n",
       "<polygon fill=\"#e99355\" stroke=\"black\" points=\"693.5,-68 559.5,-68 559.5,0 693.5,0 693.5,-68\"/>\n",
       "<text text-anchor=\"middle\" x=\"626.5\" y=\"-52.8\" font-family=\"Times,serif\" font-size=\"14.00\">entropy = 0.546</text>\n",
       "<text text-anchor=\"middle\" x=\"626.5\" y=\"-37.8\" font-family=\"Times,serif\" font-size=\"14.00\">samples = 9411</text>\n",
       "<text text-anchor=\"middle\" x=\"626.5\" y=\"-22.8\" font-family=\"Times,serif\" font-size=\"14.00\">value = [8227, 1184]</text>\n",
       "<text text-anchor=\"middle\" x=\"626.5\" y=\"-7.8\" font-family=\"Times,serif\" font-size=\"14.00\">class = 1</text>\n",
       "</g>\n",
       "<!-- 9&#45;&gt;10 -->\n",
       "<g id=\"edge10\" class=\"edge\">\n",
       "<title>9&#45;&gt;10</title>\n",
       "<path fill=\"none\" stroke=\"black\" d=\"M649.09,-103.73C646.34,-95.34 643.42,-86.47 640.64,-78.01\"/>\n",
       "<polygon fill=\"black\" stroke=\"black\" points=\"643.9,-76.71 637.45,-68.3 637.25,-78.89 643.9,-76.71\"/>\n",
       "</g>\n",
       "<!-- 11 -->\n",
       "<g id=\"node12\" class=\"node\">\n",
       "<title>11</title>\n",
       "<polygon fill=\"#399de5\" stroke=\"black\" points=\"823.5,-68 711.5,-68 711.5,0 823.5,0 823.5,-68\"/>\n",
       "<text text-anchor=\"middle\" x=\"767.5\" y=\"-52.8\" font-family=\"Times,serif\" font-size=\"14.00\">entropy = 0.0</text>\n",
       "<text text-anchor=\"middle\" x=\"767.5\" y=\"-37.8\" font-family=\"Times,serif\" font-size=\"14.00\">samples = 1117</text>\n",
       "<text text-anchor=\"middle\" x=\"767.5\" y=\"-22.8\" font-family=\"Times,serif\" font-size=\"14.00\">value = [0, 1117]</text>\n",
       "<text text-anchor=\"middle\" x=\"767.5\" y=\"-7.8\" font-family=\"Times,serif\" font-size=\"14.00\">class = 0</text>\n",
       "</g>\n",
       "<!-- 9&#45;&gt;11 -->\n",
       "<g id=\"edge11\" class=\"edge\">\n",
       "<title>9&#45;&gt;11</title>\n",
       "<path fill=\"none\" stroke=\"black\" d=\"M701.6,-103.73C710.43,-94.51 719.81,-84.74 728.63,-75.53\"/>\n",
       "<polygon fill=\"black\" stroke=\"black\" points=\"731.17,-77.94 735.57,-68.3 726.12,-73.1 731.17,-77.94\"/>\n",
       "</g>\n",
       "<!-- 13 -->\n",
       "<g id=\"node14\" class=\"node\">\n",
       "<title>13</title>\n",
       "<polygon fill=\"#7abded\" stroke=\"black\" points=\"983,-68 842,-68 842,0 983,0 983,-68\"/>\n",
       "<text text-anchor=\"middle\" x=\"912.5\" y=\"-52.8\" font-family=\"Times,serif\" font-size=\"14.00\">entropy = 0.805</text>\n",
       "<text text-anchor=\"middle\" x=\"912.5\" y=\"-37.8\" font-family=\"Times,serif\" font-size=\"14.00\">samples = 23689</text>\n",
       "<text text-anchor=\"middle\" x=\"912.5\" y=\"-22.8\" font-family=\"Times,serif\" font-size=\"14.00\">value = [5834, 17855]</text>\n",
       "<text text-anchor=\"middle\" x=\"912.5\" y=\"-7.8\" font-family=\"Times,serif\" font-size=\"14.00\">class = 0</text>\n",
       "</g>\n",
       "<!-- 12&#45;&gt;13 -->\n",
       "<g id=\"edge13\" class=\"edge\">\n",
       "<title>12&#45;&gt;13</title>\n",
       "<path fill=\"none\" stroke=\"black\" d=\"M912.5,-103.73C912.5,-95.52 912.5,-86.86 912.5,-78.56\"/>\n",
       "<polygon fill=\"black\" stroke=\"black\" points=\"916,-78.3 912.5,-68.3 909,-78.3 916,-78.3\"/>\n",
       "</g>\n",
       "<!-- 14 -->\n",
       "<g id=\"node15\" class=\"node\">\n",
       "<title>14</title>\n",
       "<polygon fill=\"#3c9ee5\" stroke=\"black\" points=\"1135.5,-68 1001.5,-68 1001.5,0 1135.5,0 1135.5,-68\"/>\n",
       "<text text-anchor=\"middle\" x=\"1068.5\" y=\"-52.8\" font-family=\"Times,serif\" font-size=\"14.00\">entropy = 0.106</text>\n",
       "<text text-anchor=\"middle\" x=\"1068.5\" y=\"-37.8\" font-family=\"Times,serif\" font-size=\"14.00\">samples = 17289</text>\n",
       "<text text-anchor=\"middle\" x=\"1068.5\" y=\"-22.8\" font-family=\"Times,serif\" font-size=\"14.00\">value = [242, 17047]</text>\n",
       "<text text-anchor=\"middle\" x=\"1068.5\" y=\"-7.8\" font-family=\"Times,serif\" font-size=\"14.00\">class = 0</text>\n",
       "</g>\n",
       "<!-- 12&#45;&gt;14 -->\n",
       "<g id=\"edge14\" class=\"edge\">\n",
       "<title>12&#45;&gt;14</title>\n",
       "<path fill=\"none\" stroke=\"black\" d=\"M970.59,-103.73C984.36,-94.06 999.02,-83.77 1012.69,-74.17\"/>\n",
       "<polygon fill=\"black\" stroke=\"black\" points=\"1014.89,-76.91 1021.06,-68.3 1010.86,-71.18 1014.89,-76.91\"/>\n",
       "</g>\n",
       "</g>\n",
       "</svg>\n"
      ],
      "text/plain": [
       "<graphviz.sources.Source at 0x7f8c3f307610>"
      ]
     },
     "execution_count": 56,
     "metadata": {},
     "output_type": "execute_result"
    },
    {
     "data": {
      "text/plain": [
       "<Figure size 3000x900 with 0 Axes>"
      ]
     },
     "metadata": {},
     "output_type": "display_data"
    }
   ],
   "source": [
    "from sklearn.tree import plot_tree\n",
    "import graphviz\n",
    "plt.figure(figsize=(10, 3), dpi=300)\n",
    "tree_dot = export_graphviz(tree, out_file=None, feature_names=df_feature_names,class_names= df_target_names, filled=True)\n",
    "graph = graphviz.Source(tree_dot, format=\"png\")\n",
    "graph.render(filename=\"no_pruning\", cleanup=True)\n",
    "graph"
   ]
  },
  {
   "cell_type": "code",
   "execution_count": 57,
   "id": "93e028cd",
   "metadata": {},
   "outputs": [],
   "source": [
    "d = {'Feature_Name':df_feature_names,'Feature_Weights':tree.feature_importances_.tolist()}"
   ]
  },
  {
   "cell_type": "code",
   "execution_count": 58,
   "id": "0c71d014",
   "metadata": {},
   "outputs": [
    {
     "data": {
      "text/html": [
       "<div>\n",
       "<style scoped>\n",
       "    .dataframe tbody tr th:only-of-type {\n",
       "        vertical-align: middle;\n",
       "    }\n",
       "\n",
       "    .dataframe tbody tr th {\n",
       "        vertical-align: top;\n",
       "    }\n",
       "\n",
       "    .dataframe thead th {\n",
       "        text-align: right;\n",
       "    }\n",
       "</style>\n",
       "<table border=\"1\" class=\"dataframe\">\n",
       "  <thead>\n",
       "    <tr style=\"text-align: right;\">\n",
       "      <th></th>\n",
       "      <th>Feature_Name</th>\n",
       "      <th>Feature_Weights</th>\n",
       "    </tr>\n",
       "  </thead>\n",
       "  <tbody>\n",
       "    <tr>\n",
       "      <th>10</th>\n",
       "      <td>Online_boarding</td>\n",
       "      <td>0.545214</td>\n",
       "    </tr>\n",
       "    <tr>\n",
       "      <th>5</th>\n",
       "      <td>Inflight_wifi_service</td>\n",
       "      <td>0.254949</td>\n",
       "    </tr>\n",
       "    <tr>\n",
       "      <th>3</th>\n",
       "      <td>Business_travel</td>\n",
       "      <td>0.198241</td>\n",
       "    </tr>\n",
       "    <tr>\n",
       "      <th>12</th>\n",
       "      <td>Inflight_entertainment</td>\n",
       "      <td>0.001596</td>\n",
       "    </tr>\n",
       "    <tr>\n",
       "      <th>14</th>\n",
       "      <td>Leg_room_service</td>\n",
       "      <td>0.000000</td>\n",
       "    </tr>\n",
       "  </tbody>\n",
       "</table>\n",
       "</div>"
      ],
      "text/plain": [
       "              Feature_Name  Feature_Weights\n",
       "10         Online_boarding         0.545214\n",
       "5    Inflight_wifi_service         0.254949\n",
       "3          Business_travel         0.198241\n",
       "12  Inflight_entertainment         0.001596\n",
       "14        Leg_room_service         0.000000"
      ]
     },
     "execution_count": 58,
     "metadata": {},
     "output_type": "execute_result"
    }
   ],
   "source": [
    "important_features = pd.DataFrame(d)\n",
    "important_features.sort_values(by='Feature_Weights',ascending=False).nlargest(5,columns='Feature_Weights')"
   ]
  },
  {
   "cell_type": "markdown",
   "id": "d60f4ed6",
   "metadata": {},
   "source": [
    "<div class=\"alert alert-block alert-info\"> <u>Conclusion:</u> Based off our decision tree feature weights, we can observe the most important features as the online boarding experience, the inflight wifi service, whether a customer traveled business class or not, and the cleanliness of the airplane. \n",
    "    \n",
    "<br>\n",
    "<br>\n",
    "<u>Recommendation:</u> Our recommendation is for the airline to take steps to try and improve the customer online boarding experience whether it be through improving the user interface or making the process more seamless. Other opportunities would be to improve the wifi performance or the cost of wifi on planes and maintain interesting inflight entertainment options. Without fully changing the customer cabin, the airline could observe features of business class that could be applied to economy such as premium snacks or better entertainment offerings.\n"
   ]
  },
  {
   "cell_type": "markdown",
   "id": "3b3a2b8c",
   "metadata": {},
   "source": [
    "### Loyalty\n"
   ]
  },
  {
   "cell_type": "markdown",
   "id": "1a6c30ba",
   "metadata": {},
   "source": [
    "Loyalty was another distinguishing attributes between customers, hence we ran a logistic regression with the target variable as 'Loyalty' to understand what the effect of each component on the overall likelihood of whether a customer would be loyal or not. Prior to running the logistic regression, we balanced the dataset since there was a significantly greater proportion of loyal customers than disloyal customers. We also used GridSearchCV to tune the hyperparameters, C and penalty (L1/L2) to find the optimal model."
   ]
  },
  {
   "cell_type": "markdown",
   "id": "8731c8bb",
   "metadata": {},
   "source": [
    "##### Balance the dataset"
   ]
  },
  {
   "cell_type": "code",
   "execution_count": 59,
   "id": "67d2b6d1",
   "metadata": {},
   "outputs": [
    {
     "data": {
      "text/html": [
       "<div>\n",
       "<style scoped>\n",
       "    .dataframe tbody tr th:only-of-type {\n",
       "        vertical-align: middle;\n",
       "    }\n",
       "\n",
       "    .dataframe tbody tr th {\n",
       "        vertical-align: top;\n",
       "    }\n",
       "\n",
       "    .dataframe thead th {\n",
       "        text-align: right;\n",
       "    }\n",
       "</style>\n",
       "<table border=\"1\" class=\"dataframe\">\n",
       "  <thead>\n",
       "    <tr style=\"text-align: right;\">\n",
       "      <th></th>\n",
       "      <th>Male</th>\n",
       "      <th>Loyal_Customer</th>\n",
       "      <th>Age</th>\n",
       "      <th>Business_travel</th>\n",
       "      <th>Flight_Distance</th>\n",
       "      <th>Inflight_wifi_service</th>\n",
       "      <th>Departure_Arrival_time_convenient</th>\n",
       "      <th>Ease_of_Online_booking</th>\n",
       "      <th>Gate_location</th>\n",
       "      <th>Food_and_drink</th>\n",
       "      <th>...</th>\n",
       "      <th>Checkin_service</th>\n",
       "      <th>Inflight_service</th>\n",
       "      <th>Cleanliness</th>\n",
       "      <th>Departure_Delay_in_Minutes</th>\n",
       "      <th>Arrival_Delay_in_Minutes</th>\n",
       "      <th>Satisfied</th>\n",
       "      <th>Class_Business</th>\n",
       "      <th>Class_Eco</th>\n",
       "      <th>Class_Eco Plus</th>\n",
       "      <th>cluster</th>\n",
       "    </tr>\n",
       "  </thead>\n",
       "  <tbody>\n",
       "    <tr>\n",
       "      <th>0</th>\n",
       "      <td>0</td>\n",
       "      <td>1</td>\n",
       "      <td>52</td>\n",
       "      <td>1</td>\n",
       "      <td>160</td>\n",
       "      <td>5</td>\n",
       "      <td>4</td>\n",
       "      <td>3</td>\n",
       "      <td>4</td>\n",
       "      <td>3</td>\n",
       "      <td>...</td>\n",
       "      <td>2</td>\n",
       "      <td>5</td>\n",
       "      <td>5</td>\n",
       "      <td>50</td>\n",
       "      <td>44.0</td>\n",
       "      <td>1</td>\n",
       "      <td>0</td>\n",
       "      <td>1</td>\n",
       "      <td>0</td>\n",
       "      <td>2</td>\n",
       "    </tr>\n",
       "    <tr>\n",
       "      <th>1</th>\n",
       "      <td>0</td>\n",
       "      <td>1</td>\n",
       "      <td>36</td>\n",
       "      <td>1</td>\n",
       "      <td>2863</td>\n",
       "      <td>1</td>\n",
       "      <td>1</td>\n",
       "      <td>3</td>\n",
       "      <td>1</td>\n",
       "      <td>5</td>\n",
       "      <td>...</td>\n",
       "      <td>3</td>\n",
       "      <td>4</td>\n",
       "      <td>5</td>\n",
       "      <td>0</td>\n",
       "      <td>0.0</td>\n",
       "      <td>1</td>\n",
       "      <td>1</td>\n",
       "      <td>0</td>\n",
       "      <td>0</td>\n",
       "      <td>1</td>\n",
       "    </tr>\n",
       "    <tr>\n",
       "      <th>2</th>\n",
       "      <td>1</td>\n",
       "      <td>0</td>\n",
       "      <td>20</td>\n",
       "      <td>1</td>\n",
       "      <td>192</td>\n",
       "      <td>2</td>\n",
       "      <td>0</td>\n",
       "      <td>2</td>\n",
       "      <td>4</td>\n",
       "      <td>2</td>\n",
       "      <td>...</td>\n",
       "      <td>2</td>\n",
       "      <td>2</td>\n",
       "      <td>2</td>\n",
       "      <td>0</td>\n",
       "      <td>0.0</td>\n",
       "      <td>0</td>\n",
       "      <td>0</td>\n",
       "      <td>1</td>\n",
       "      <td>0</td>\n",
       "      <td>2</td>\n",
       "    </tr>\n",
       "    <tr>\n",
       "      <th>3</th>\n",
       "      <td>1</td>\n",
       "      <td>1</td>\n",
       "      <td>44</td>\n",
       "      <td>1</td>\n",
       "      <td>3377</td>\n",
       "      <td>0</td>\n",
       "      <td>0</td>\n",
       "      <td>0</td>\n",
       "      <td>2</td>\n",
       "      <td>3</td>\n",
       "      <td>...</td>\n",
       "      <td>3</td>\n",
       "      <td>1</td>\n",
       "      <td>4</td>\n",
       "      <td>0</td>\n",
       "      <td>6.0</td>\n",
       "      <td>1</td>\n",
       "      <td>1</td>\n",
       "      <td>0</td>\n",
       "      <td>0</td>\n",
       "      <td>1</td>\n",
       "    </tr>\n",
       "    <tr>\n",
       "      <th>4</th>\n",
       "      <td>0</td>\n",
       "      <td>1</td>\n",
       "      <td>49</td>\n",
       "      <td>1</td>\n",
       "      <td>1182</td>\n",
       "      <td>2</td>\n",
       "      <td>3</td>\n",
       "      <td>4</td>\n",
       "      <td>3</td>\n",
       "      <td>4</td>\n",
       "      <td>...</td>\n",
       "      <td>4</td>\n",
       "      <td>2</td>\n",
       "      <td>4</td>\n",
       "      <td>0</td>\n",
       "      <td>20.0</td>\n",
       "      <td>1</td>\n",
       "      <td>0</td>\n",
       "      <td>1</td>\n",
       "      <td>0</td>\n",
       "      <td>0</td>\n",
       "    </tr>\n",
       "  </tbody>\n",
       "</table>\n",
       "<p>5 rows × 26 columns</p>\n",
       "</div>"
      ],
      "text/plain": [
       "   Male  Loyal_Customer  Age  Business_travel  Flight_Distance  \\\n",
       "0     0               1   52                1              160   \n",
       "1     0               1   36                1             2863   \n",
       "2     1               0   20                1              192   \n",
       "3     1               1   44                1             3377   \n",
       "4     0               1   49                1             1182   \n",
       "\n",
       "   Inflight_wifi_service  Departure_Arrival_time_convenient  \\\n",
       "0                      5                                  4   \n",
       "1                      1                                  1   \n",
       "2                      2                                  0   \n",
       "3                      0                                  0   \n",
       "4                      2                                  3   \n",
       "\n",
       "   Ease_of_Online_booking  Gate_location  Food_and_drink  ...  \\\n",
       "0                       3              4               3  ...   \n",
       "1                       3              1               5  ...   \n",
       "2                       2              4               2  ...   \n",
       "3                       0              2               3  ...   \n",
       "4                       4              3               4  ...   \n",
       "\n",
       "   Checkin_service  Inflight_service  Cleanliness  Departure_Delay_in_Minutes  \\\n",
       "0                2                 5            5                          50   \n",
       "1                3                 4            5                           0   \n",
       "2                2                 2            2                           0   \n",
       "3                3                 1            4                           0   \n",
       "4                4                 2            4                           0   \n",
       "\n",
       "   Arrival_Delay_in_Minutes  Satisfied  Class_Business  Class_Eco  \\\n",
       "0                      44.0          1               0          1   \n",
       "1                       0.0          1               1          0   \n",
       "2                       0.0          0               0          1   \n",
       "3                       6.0          1               1          0   \n",
       "4                      20.0          1               0          1   \n",
       "\n",
       "   Class_Eco Plus  cluster  \n",
       "0               0        2  \n",
       "1               0        1  \n",
       "2               0        2  \n",
       "3               0        1  \n",
       "4               0        0  \n",
       "\n",
       "[5 rows x 26 columns]"
      ]
     },
     "execution_count": 59,
     "metadata": {},
     "output_type": "execute_result"
    }
   ],
   "source": [
    "df.head()"
   ]
  },
  {
   "cell_type": "code",
   "execution_count": 60,
   "id": "c4da78c1",
   "metadata": {},
   "outputs": [
    {
     "data": {
      "text/plain": [
       "105773"
      ]
     },
     "execution_count": 60,
     "metadata": {},
     "output_type": "execute_result"
    }
   ],
   "source": [
    "loyal_raw = df[df.Loyal_Customer == 1]\n",
    "len(loyal_raw)"
   ]
  },
  {
   "cell_type": "code",
   "execution_count": 61,
   "id": "ed6559a6",
   "metadata": {
    "scrolled": true
   },
   "outputs": [
    {
     "data": {
      "text/plain": [
       "23714"
      ]
     },
     "execution_count": 61,
     "metadata": {},
     "output_type": "execute_result"
    }
   ],
   "source": [
    "disloyal_raw = df[df.Loyal_Customer == 0]\n",
    "len(disloyal_raw)"
   ]
  },
  {
   "cell_type": "code",
   "execution_count": 62,
   "id": "51092be3",
   "metadata": {},
   "outputs": [
    {
     "data": {
      "text/plain": [
       "0.22419710133966134"
      ]
     },
     "execution_count": 62,
     "metadata": {},
     "output_type": "execute_result"
    }
   ],
   "source": [
    "percentage = len(disloyal_raw)/float(len(loyal_raw))\n",
    "percentage"
   ]
  },
  {
   "cell_type": "code",
   "execution_count": 63,
   "id": "6551880a",
   "metadata": {},
   "outputs": [],
   "source": [
    "loyal = loyal_raw.sample(frac = percentage, random_state = 1)"
   ]
  },
  {
   "cell_type": "code",
   "execution_count": 64,
   "id": "e0569e15",
   "metadata": {},
   "outputs": [
    {
     "data": {
      "text/plain": [
       "23714"
      ]
     },
     "execution_count": 64,
     "metadata": {},
     "output_type": "execute_result"
    },
    {
     "data": {
      "text/plain": [
       "23714"
      ]
     },
     "execution_count": 64,
     "metadata": {},
     "output_type": "execute_result"
    }
   ],
   "source": [
    "len(loyal)\n",
    "len(disloyal_raw)"
   ]
  },
  {
   "cell_type": "code",
   "execution_count": 65,
   "id": "0d8dc52b",
   "metadata": {},
   "outputs": [],
   "source": [
    "df = disloyal_raw.append(loyal)"
   ]
  },
  {
   "cell_type": "code",
   "execution_count": 66,
   "id": "7fb17e93",
   "metadata": {
    "scrolled": true
   },
   "outputs": [
    {
     "data": {
      "text/plain": [
       "0    23714\n",
       "1    23714\n",
       "Name: Loyal_Customer, dtype: int64"
      ]
     },
     "execution_count": 66,
     "metadata": {},
     "output_type": "execute_result"
    }
   ],
   "source": [
    "df.Loyal_Customer.value_counts()"
   ]
  },
  {
   "cell_type": "markdown",
   "id": "2cdfe37b",
   "metadata": {},
   "source": [
    "##### Logistic Regression on Target Variable 'Loyal_Customer'"
   ]
  },
  {
   "cell_type": "code",
   "execution_count": 67,
   "id": "a7193429",
   "metadata": {},
   "outputs": [],
   "source": [
    "from sklearn import metrics\n",
    "from sklearn.model_selection import train_test_split, GridSearchCV, cross_validate\n",
    "from sklearn.pipeline import make_pipeline, Pipeline\n",
    "from sklearn.preprocessing import MinMaxScaler, StandardScaler, OneHotEncoder\n",
    "from sklearn.linear_model import LogisticRegression\n",
    "from sklearn.impute import SimpleImputer\n",
    "\n",
    "%matplotlib inline\n",
    "\n",
    "preprocessor = make_pipeline(StandardScaler(), SimpleImputer())\n",
    "\n",
    "pipe_lr = Pipeline([('preprocessing', preprocessor),\\\n",
    "                    ('classifier', LogisticRegression(random_state = 0, multi_class = 'auto'))])"
   ]
  },
  {
   "cell_type": "code",
   "execution_count": 68,
   "id": "56c61f45",
   "metadata": {},
   "outputs": [],
   "source": [
    "X = df.drop(['Loyal_Customer','cluster'],axis=1)\n",
    "y = df.Loyal_Customer"
   ]
  },
  {
   "cell_type": "code",
   "execution_count": 69,
   "id": "6babd8b5",
   "metadata": {},
   "outputs": [],
   "source": [
    "from sklearn.model_selection import train_test_split\n",
    "X_train, X_test, y_train, y_test = \\\n",
    "train_test_split(X, y, stratify=y, random_state=0,test_size = 0.2)"
   ]
  },
  {
   "cell_type": "code",
   "execution_count": 70,
   "id": "735313e2",
   "metadata": {},
   "outputs": [
    {
     "data": {
      "text/plain": [
       "{'memory': None,\n",
       " 'steps': [('preprocessing',\n",
       "   Pipeline(steps=[('standardscaler', StandardScaler()),\n",
       "                   ('simpleimputer', SimpleImputer())])),\n",
       "  ('classifier', LogisticRegression(random_state=0))],\n",
       " 'verbose': False,\n",
       " 'preprocessing': Pipeline(steps=[('standardscaler', StandardScaler()),\n",
       "                 ('simpleimputer', SimpleImputer())]),\n",
       " 'classifier': LogisticRegression(random_state=0),\n",
       " 'preprocessing__memory': None,\n",
       " 'preprocessing__steps': [('standardscaler', StandardScaler()),\n",
       "  ('simpleimputer', SimpleImputer())],\n",
       " 'preprocessing__verbose': False,\n",
       " 'preprocessing__standardscaler': StandardScaler(),\n",
       " 'preprocessing__simpleimputer': SimpleImputer(),\n",
       " 'preprocessing__standardscaler__copy': True,\n",
       " 'preprocessing__standardscaler__with_mean': True,\n",
       " 'preprocessing__standardscaler__with_std': True,\n",
       " 'preprocessing__simpleimputer__add_indicator': False,\n",
       " 'preprocessing__simpleimputer__copy': True,\n",
       " 'preprocessing__simpleimputer__fill_value': None,\n",
       " 'preprocessing__simpleimputer__missing_values': nan,\n",
       " 'preprocessing__simpleimputer__strategy': 'mean',\n",
       " 'preprocessing__simpleimputer__verbose': 0,\n",
       " 'classifier__C': 1.0,\n",
       " 'classifier__class_weight': None,\n",
       " 'classifier__dual': False,\n",
       " 'classifier__fit_intercept': True,\n",
       " 'classifier__intercept_scaling': 1,\n",
       " 'classifier__l1_ratio': None,\n",
       " 'classifier__max_iter': 100,\n",
       " 'classifier__multi_class': 'auto',\n",
       " 'classifier__n_jobs': None,\n",
       " 'classifier__penalty': 'l2',\n",
       " 'classifier__random_state': 0,\n",
       " 'classifier__solver': 'lbfgs',\n",
       " 'classifier__tol': 0.0001,\n",
       " 'classifier__verbose': 0,\n",
       " 'classifier__warm_start': False}"
      ]
     },
     "execution_count": 70,
     "metadata": {},
     "output_type": "execute_result"
    }
   ],
   "source": [
    "pipe_lr.get_params()"
   ]
  },
  {
   "cell_type": "code",
   "execution_count": 71,
   "id": "c5932954",
   "metadata": {
    "scrolled": false
   },
   "outputs": [
    {
     "data": {
      "text/plain": [
       "GridSearchCV(cv=3,\n",
       "             estimator=Pipeline(steps=[('minmaxscaler', MinMaxScaler()),\n",
       "                                       ('logisticregression',\n",
       "                                        LogisticRegression(max_iter=5000,\n",
       "                                                           random_state=0))]),\n",
       "             n_jobs=-1,\n",
       "             param_grid={'logisticregression__C': [0.1, 1.0, 10],\n",
       "                         'logisticregression__penalty': ['l2', 'l1']},\n",
       "             return_train_score=True)"
      ]
     },
     "execution_count": 71,
     "metadata": {},
     "output_type": "execute_result"
    },
    {
     "data": {
      "text/plain": [
       "{'logisticregression__C': 1.0, 'logisticregression__penalty': 'l2'}"
      ]
     },
     "execution_count": 71,
     "metadata": {},
     "output_type": "execute_result"
    }
   ],
   "source": [
    "from sklearn.model_selection import GridSearchCV\n",
    "\n",
    "pipe = make_pipeline(MinMaxScaler(),\n",
    "                     LogisticRegression(solver='lbfgs', multi_class='auto',\n",
    "                                        random_state=0, max_iter=5000))\n",
    "param_grid = {'logisticregression__C': [0.1, 1.0, 10],\n",
    "              'logisticregression__penalty': ['l2', 'l1']}\n",
    "grid = GridSearchCV(pipe, param_grid=param_grid, cv=3, n_jobs=-1, return_train_score=True)\n",
    "grid.fit(X_train, y_train)\n",
    "\n",
    "grid.best_params_"
   ]
  },
  {
   "cell_type": "code",
   "execution_count": 72,
   "id": "1d8bdaa0",
   "metadata": {},
   "outputs": [
    {
     "data": {
      "text/html": [
       "<div>\n",
       "<style scoped>\n",
       "    .dataframe tbody tr th:only-of-type {\n",
       "        vertical-align: middle;\n",
       "    }\n",
       "\n",
       "    .dataframe tbody tr th {\n",
       "        vertical-align: top;\n",
       "    }\n",
       "\n",
       "    .dataframe thead th {\n",
       "        text-align: right;\n",
       "    }\n",
       "</style>\n",
       "<table border=\"1\" class=\"dataframe\">\n",
       "  <thead>\n",
       "    <tr style=\"text-align: right;\">\n",
       "      <th></th>\n",
       "      <th>mean_fit_time</th>\n",
       "      <th>std_fit_time</th>\n",
       "      <th>mean_score_time</th>\n",
       "      <th>std_score_time</th>\n",
       "      <th>param_logisticregression__C</th>\n",
       "      <th>param_logisticregression__penalty</th>\n",
       "      <th>params</th>\n",
       "      <th>split0_test_score</th>\n",
       "      <th>split1_test_score</th>\n",
       "      <th>split2_test_score</th>\n",
       "      <th>mean_test_score</th>\n",
       "      <th>std_test_score</th>\n",
       "      <th>rank_test_score</th>\n",
       "      <th>split0_train_score</th>\n",
       "      <th>split1_train_score</th>\n",
       "      <th>split2_train_score</th>\n",
       "      <th>mean_train_score</th>\n",
       "      <th>std_train_score</th>\n",
       "    </tr>\n",
       "  </thead>\n",
       "  <tbody>\n",
       "    <tr>\n",
       "      <th>0</th>\n",
       "      <td>0.738711</td>\n",
       "      <td>0.069197</td>\n",
       "      <td>0.025482</td>\n",
       "      <td>0.000694</td>\n",
       "      <td>0.1</td>\n",
       "      <td>l2</td>\n",
       "      <td>{'logisticregression__C': 0.1, 'logisticregres...</td>\n",
       "      <td>0.892789</td>\n",
       "      <td>0.885902</td>\n",
       "      <td>0.887088</td>\n",
       "      <td>0.888593</td>\n",
       "      <td>0.003007</td>\n",
       "      <td>3</td>\n",
       "      <td>0.887365</td>\n",
       "      <td>0.889899</td>\n",
       "      <td>0.889464</td>\n",
       "      <td>0.888909</td>\n",
       "      <td>0.001107</td>\n",
       "    </tr>\n",
       "    <tr>\n",
       "      <th>1</th>\n",
       "      <td>0.095644</td>\n",
       "      <td>0.034420</td>\n",
       "      <td>0.000000</td>\n",
       "      <td>0.000000</td>\n",
       "      <td>0.1</td>\n",
       "      <td>l1</td>\n",
       "      <td>{'logisticregression__C': 0.1, 'logisticregres...</td>\n",
       "      <td>NaN</td>\n",
       "      <td>NaN</td>\n",
       "      <td>NaN</td>\n",
       "      <td>NaN</td>\n",
       "      <td>NaN</td>\n",
       "      <td>4</td>\n",
       "      <td>NaN</td>\n",
       "      <td>NaN</td>\n",
       "      <td>NaN</td>\n",
       "      <td>NaN</td>\n",
       "      <td>NaN</td>\n",
       "    </tr>\n",
       "    <tr>\n",
       "      <th>2</th>\n",
       "      <td>1.375295</td>\n",
       "      <td>0.182435</td>\n",
       "      <td>0.024546</td>\n",
       "      <td>0.000474</td>\n",
       "      <td>1.0</td>\n",
       "      <td>l2</td>\n",
       "      <td>{'logisticregression__C': 1.0, 'logisticregres...</td>\n",
       "      <td>0.893580</td>\n",
       "      <td>0.886851</td>\n",
       "      <td>0.887879</td>\n",
       "      <td>0.889436</td>\n",
       "      <td>0.002960</td>\n",
       "      <td>1</td>\n",
       "      <td>0.887088</td>\n",
       "      <td>0.891046</td>\n",
       "      <td>0.890176</td>\n",
       "      <td>0.889436</td>\n",
       "      <td>0.001698</td>\n",
       "    </tr>\n",
       "    <tr>\n",
       "      <th>3</th>\n",
       "      <td>0.099999</td>\n",
       "      <td>0.005169</td>\n",
       "      <td>0.000000</td>\n",
       "      <td>0.000000</td>\n",
       "      <td>1.0</td>\n",
       "      <td>l1</td>\n",
       "      <td>{'logisticregression__C': 1.0, 'logisticregres...</td>\n",
       "      <td>NaN</td>\n",
       "      <td>NaN</td>\n",
       "      <td>NaN</td>\n",
       "      <td>NaN</td>\n",
       "      <td>NaN</td>\n",
       "      <td>5</td>\n",
       "      <td>NaN</td>\n",
       "      <td>NaN</td>\n",
       "      <td>NaN</td>\n",
       "      <td>NaN</td>\n",
       "      <td>NaN</td>\n",
       "    </tr>\n",
       "    <tr>\n",
       "      <th>4</th>\n",
       "      <td>2.259744</td>\n",
       "      <td>0.247446</td>\n",
       "      <td>0.012441</td>\n",
       "      <td>0.006565</td>\n",
       "      <td>10</td>\n",
       "      <td>l2</td>\n",
       "      <td>{'logisticregression__C': 10, 'logisticregress...</td>\n",
       "      <td>0.893106</td>\n",
       "      <td>0.886613</td>\n",
       "      <td>0.887799</td>\n",
       "      <td>0.889173</td>\n",
       "      <td>0.002823</td>\n",
       "      <td>2</td>\n",
       "      <td>0.887523</td>\n",
       "      <td>0.890888</td>\n",
       "      <td>0.890295</td>\n",
       "      <td>0.889568</td>\n",
       "      <td>0.001467</td>\n",
       "    </tr>\n",
       "    <tr>\n",
       "      <th>5</th>\n",
       "      <td>0.170745</td>\n",
       "      <td>0.145191</td>\n",
       "      <td>0.000000</td>\n",
       "      <td>0.000000</td>\n",
       "      <td>10</td>\n",
       "      <td>l1</td>\n",
       "      <td>{'logisticregression__C': 10, 'logisticregress...</td>\n",
       "      <td>NaN</td>\n",
       "      <td>NaN</td>\n",
       "      <td>NaN</td>\n",
       "      <td>NaN</td>\n",
       "      <td>NaN</td>\n",
       "      <td>6</td>\n",
       "      <td>NaN</td>\n",
       "      <td>NaN</td>\n",
       "      <td>NaN</td>\n",
       "      <td>NaN</td>\n",
       "      <td>NaN</td>\n",
       "    </tr>\n",
       "  </tbody>\n",
       "</table>\n",
       "</div>"
      ],
      "text/plain": [
       "   mean_fit_time  std_fit_time  mean_score_time  std_score_time  \\\n",
       "0       0.738711      0.069197         0.025482        0.000694   \n",
       "1       0.095644      0.034420         0.000000        0.000000   \n",
       "2       1.375295      0.182435         0.024546        0.000474   \n",
       "3       0.099999      0.005169         0.000000        0.000000   \n",
       "4       2.259744      0.247446         0.012441        0.006565   \n",
       "5       0.170745      0.145191         0.000000        0.000000   \n",
       "\n",
       "  param_logisticregression__C param_logisticregression__penalty  \\\n",
       "0                         0.1                                l2   \n",
       "1                         0.1                                l1   \n",
       "2                         1.0                                l2   \n",
       "3                         1.0                                l1   \n",
       "4                          10                                l2   \n",
       "5                          10                                l1   \n",
       "\n",
       "                                              params  split0_test_score  \\\n",
       "0  {'logisticregression__C': 0.1, 'logisticregres...           0.892789   \n",
       "1  {'logisticregression__C': 0.1, 'logisticregres...                NaN   \n",
       "2  {'logisticregression__C': 1.0, 'logisticregres...           0.893580   \n",
       "3  {'logisticregression__C': 1.0, 'logisticregres...                NaN   \n",
       "4  {'logisticregression__C': 10, 'logisticregress...           0.893106   \n",
       "5  {'logisticregression__C': 10, 'logisticregress...                NaN   \n",
       "\n",
       "   split1_test_score  split2_test_score  mean_test_score  std_test_score  \\\n",
       "0           0.885902           0.887088         0.888593        0.003007   \n",
       "1                NaN                NaN              NaN             NaN   \n",
       "2           0.886851           0.887879         0.889436        0.002960   \n",
       "3                NaN                NaN              NaN             NaN   \n",
       "4           0.886613           0.887799         0.889173        0.002823   \n",
       "5                NaN                NaN              NaN             NaN   \n",
       "\n",
       "   rank_test_score  split0_train_score  split1_train_score  \\\n",
       "0                3            0.887365            0.889899   \n",
       "1                4                 NaN                 NaN   \n",
       "2                1            0.887088            0.891046   \n",
       "3                5                 NaN                 NaN   \n",
       "4                2            0.887523            0.890888   \n",
       "5                6                 NaN                 NaN   \n",
       "\n",
       "   split2_train_score  mean_train_score  std_train_score  \n",
       "0            0.889464          0.888909         0.001107  \n",
       "1                 NaN               NaN              NaN  \n",
       "2            0.890176          0.889436         0.001698  \n",
       "3                 NaN               NaN              NaN  \n",
       "4            0.890295          0.889568         0.001467  \n",
       "5                 NaN               NaN              NaN  "
      ]
     },
     "execution_count": 72,
     "metadata": {},
     "output_type": "execute_result"
    }
   ],
   "source": [
    "df_grid = pd.DataFrame(grid.cv_results_)\n",
    "df_grid"
   ]
  },
  {
   "cell_type": "code",
   "execution_count": 73,
   "id": "dfa1b5dc",
   "metadata": {},
   "outputs": [
    {
     "data": {
      "text/html": [
       "<div>\n",
       "<style scoped>\n",
       "    .dataframe tbody tr th:only-of-type {\n",
       "        vertical-align: middle;\n",
       "    }\n",
       "\n",
       "    .dataframe tbody tr th {\n",
       "        vertical-align: top;\n",
       "    }\n",
       "\n",
       "    .dataframe thead th {\n",
       "        text-align: right;\n",
       "    }\n",
       "</style>\n",
       "<table border=\"1\" class=\"dataframe\">\n",
       "  <thead>\n",
       "    <tr style=\"text-align: right;\">\n",
       "      <th>param_logisticregression__penalty</th>\n",
       "      <th>l2</th>\n",
       "    </tr>\n",
       "  </thead>\n",
       "  <tbody>\n",
       "    <tr>\n",
       "      <th>0.1</th>\n",
       "      <td>0.889</td>\n",
       "    </tr>\n",
       "    <tr>\n",
       "      <th>1.0</th>\n",
       "      <td>0.889</td>\n",
       "    </tr>\n",
       "    <tr>\n",
       "      <th>10.0</th>\n",
       "      <td>0.889</td>\n",
       "    </tr>\n",
       "  </tbody>\n",
       "</table>\n",
       "</div>"
      ],
      "text/plain": [
       "param_logisticregression__penalty     l2\n",
       "0.1                                0.889\n",
       "1.0                                0.889\n",
       "10.0                               0.889"
      ]
     },
     "execution_count": 73,
     "metadata": {},
     "output_type": "execute_result"
    }
   ],
   "source": [
    "res = pd.pivot_table(pd.DataFrame(grid.cv_results_), values='mean_test_score', index='param_logisticregression__C', columns='param_logisticregression__penalty')\n",
    "pd.set_option(\"display.precision\",3)\n",
    "res = res.set_index(res.index.values.round(4))\n",
    "res"
   ]
  },
  {
   "cell_type": "code",
   "execution_count": 74,
   "id": "8f3830c3",
   "metadata": {},
   "outputs": [
    {
     "name": "stdout",
     "output_type": "stream",
     "text": [
      "Best cross-validation score: 0.889\n",
      "Accuracy score of the GridSearchCV is 0.890\n"
     ]
    }
   ],
   "source": [
    "accuracy = grid.score(X_test, y_test)\n",
    "print(\"Best cross-validation score: {:.3f}\".format(grid.best_score_))\n",
    "print('Accuracy score of the {} is {:.3f}'.format(grid.__class__.__name__, accuracy))"
   ]
  },
  {
   "cell_type": "code",
   "execution_count": 75,
   "id": "f6d10f04",
   "metadata": {},
   "outputs": [
    {
     "name": "stdout",
     "output_type": "stream",
     "text": [
      "Best estimator:\n",
      "Pipeline(steps=[('minmaxscaler', MinMaxScaler()),\n",
      "                ('logisticregression',\n",
      "                 LogisticRegression(max_iter=5000, random_state=0))])\n"
     ]
    }
   ],
   "source": [
    "print(\"Best estimator:\\n{}\".format(grid.best_estimator_))"
   ]
  },
  {
   "cell_type": "code",
   "execution_count": 76,
   "id": "2e7998ad",
   "metadata": {
    "scrolled": true
   },
   "outputs": [
    {
     "name": "stdout",
     "output_type": "stream",
     "text": [
      "Logistic regression coefficients:\n",
      "[[ 0.16543561  5.67154531 -6.78364155  5.64772686 -2.61294113  1.12052147\n",
      "  -0.46980395  0.36522282 -0.85982104  2.54133555  0.69261833  2.2852932\n",
      "  -0.50395552  0.1454919  -1.21631536 -0.94636826 -1.17705276 -1.7737402\n",
      "  -0.53972777  0.76492333  2.11724484 -0.02148115 -0.81641129  0.74670215]]\n"
     ]
    }
   ],
   "source": [
    "print(\"Logistic regression coefficients:\\n{}\".format(\n",
    "      grid.best_estimator_.named_steps[\"logisticregression\"].coef_))"
   ]
  },
  {
   "cell_type": "code",
   "execution_count": 77,
   "id": "039d15a5",
   "metadata": {
    "scrolled": true
   },
   "outputs": [
    {
     "name": "stdout",
     "output_type": "stream",
     "text": [
      "Logistic regression feature names:\n",
      "['Male', 'Age', 'Business_travel', 'Flight_Distance', 'Inflight_wifi_service', 'Departure_Arrival_time_convenient', 'Ease_of_Online_booking', 'Gate_location', 'Food_and_drink', 'Online_boarding', 'Seat_comfort', 'Inflight_entertainment', 'On-board_service', 'Leg_room_service', 'Baggage_handling', 'Checkin_service', 'Inflight_service', 'Cleanliness', 'Departure_Delay_in_Minutes', 'Arrival_Delay_in_Minutes', 'Satisfied', 'Class_Business', 'Class_Eco', 'Class_Eco Plus']\n"
     ]
    }
   ],
   "source": [
    "print(\"Logistic regression feature names:\\n{}\".format(\n",
    "      X.columns.tolist()))"
   ]
  },
  {
   "cell_type": "code",
   "execution_count": 78,
   "id": "6b8f07c4",
   "metadata": {},
   "outputs": [
    {
     "name": "stdout",
     "output_type": "stream",
     "text": [
      "Test set score: 0.89\n"
     ]
    }
   ],
   "source": [
    "print(\"Test set score: {:.2f}\".format(grid.score(X_test, y_test)))"
   ]
  },
  {
   "cell_type": "markdown",
   "id": "e745e029",
   "metadata": {},
   "source": [
    "<div class=\"alert alert-block alert-info\"> <u>Conclusion:</u><br>\n",
    "A few examples of interpreting our logistic regression coefficients are as such:<br> \n",
    "\n",
    "-If a customer is traveling in Economy Plus, the odds that the customer is Loyal is .746 times more likely than the odds that the customer is not Loyal when all other variables are held constant.<br>\n",
    "    \n",
    "-If a customer is Satisfied, the odds that the customer is Loyal is 2.11 times more likely than the odds that the customer is not Loyal when all other variables are held constant.<br>\n",
    "\n",
    "-If the departure/arrival time is convenient, the odds that the customer is Loyal is 1.12 times more likely than the odds that the customer is not Loyal when all other variables are held constant.<br>\n",
    "\n",
    "    \n",
    "<br>\n",
    "<br>\n",
    "<u>Recommendation:</u> Our recommendation is for the airline to take steps to try and improve the overall customer satisfaction to help them convert as loyal customers. Also, improving sales on Economy Plus tickets or optimizing flight times for customer convenience (such as aligning to hotel check-in times, etc.) may also help improve customer loyalty.\n"
   ]
  },
  {
   "cell_type": "markdown",
   "id": "b9fcbfba",
   "metadata": {},
   "source": [
    "### Best ML Model to Predict Target Variable 'Satisfaction'"
   ]
  },
  {
   "cell_type": "markdown",
   "id": "abcca480",
   "metadata": {},
   "source": [
    "Random Forest - 0.9932<br>\n",
    "*best params:(max_depth=12, max_features=12, n_estimators=500)<br>*\n",
    "\n",
    "Gradient Boost Classifier - 0.9928<br>\n",
    "*best params: 'learning_rate': 0.1, 'n_estimators': 500<br>*\n",
    "\n",
    "XGBoost - 0.9947<br>\n",
    "LightGBM - 0.9946<br>\n",
    "CatBoost - 0.9952<br>\n",
    "<br>\n",
    "Best Model: CatBoost"
   ]
  },
  {
   "cell_type": "markdown",
   "id": "17d75b35",
   "metadata": {},
   "source": [
    "### Best ML Model to Predict Target Variable 'Loyalty'"
   ]
  },
  {
   "cell_type": "markdown",
   "id": "dceb1de2",
   "metadata": {},
   "source": [
    "Random Forest - .9931 <br>\n",
    "*best params:(max_depth=12, max_features=8, n_estimators=500)<br>*\n",
    "\n",
    "Gradient Boost Classifier - .9961 <br>\n",
    "*best params:('learning_rate': 0.1, 'n_estimators': 500)<br>*\n",
    "\n",
    "XGBoost - 0.9973 <br>\n",
    "LightGBM - 0.9967<br>\n",
    "CatBoost - 0.9974 <br>\n",
    "<br>\n",
    "Best Model: CatBoost"
   ]
  },
  {
   "cell_type": "markdown",
   "id": "d01359e8",
   "metadata": {},
   "source": [
    "Why Ensemble Methods?<br>\n",
    "Ensemble methods is a machine learning technique that combines several base models in order to produce one optimal predictive model. *(towardsdatascience.com)* The use of ensemble methods are very widely used and are very accurate in many applications. Our application is not related to text classification so these models are good candidates for prediction. One drawback is that they are difficult for humans to read but the models are easy to use and are some of the most accurate models. GridSearchCV was used to create and tune various models but the ensemble methods proved to be the most accurate."
   ]
  },
  {
   "cell_type": "code",
   "execution_count": null,
   "id": "59bd15c5",
   "metadata": {},
   "outputs": [],
   "source": []
  }
 ],
 "metadata": {
  "kernelspec": {
   "display_name": "Python 3",
   "language": "python",
   "name": "python3"
  },
  "language_info": {
   "codemirror_mode": {
    "name": "ipython",
    "version": 3
   },
   "file_extension": ".py",
   "mimetype": "text/x-python",
   "name": "python",
   "nbconvert_exporter": "python",
   "pygments_lexer": "ipython3",
   "version": "3.8.8"
  }
 },
 "nbformat": 4,
 "nbformat_minor": 5
}
